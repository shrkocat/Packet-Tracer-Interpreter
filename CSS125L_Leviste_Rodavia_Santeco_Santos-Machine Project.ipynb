{
  "nbformat": 4,
  "nbformat_minor": 0,
  "metadata": {
    "colab": {
      "provenance": [],
      "toc_visible": true
    },
    "kernelspec": {
      "name": "python3",
      "display_name": "Python 3"
    },
    "language_info": {
      "name": "python"
    },
    "widgets": {
      "application/vnd.jupyter.widget-state+json": {
        "48cba7bb018141df8ec35285894d6cdb": {
          "model_module": "@jupyter-widgets/controls",
          "model_name": "VBoxModel",
          "model_module_version": "1.5.0",
          "state": {
            "_dom_classes": [],
            "_model_module": "@jupyter-widgets/controls",
            "_model_module_version": "1.5.0",
            "_model_name": "VBoxModel",
            "_view_count": null,
            "_view_module": "@jupyter-widgets/controls",
            "_view_module_version": "1.5.0",
            "_view_name": "VBoxView",
            "box_style": "",
            "children": [
              "IPY_MODEL_97aa35cdac494ffa84052c4a0a1fdb4c",
              "IPY_MODEL_4925fbd1261c48a48fb9e055fc8e6464"
            ],
            "layout": "IPY_MODEL_51913e97ac9343d8a387c96fe6bfba7d"
          }
        },
        "97aa35cdac494ffa84052c4a0a1fdb4c": {
          "model_module": "@jupyter-widgets/controls",
          "model_name": "HBoxModel",
          "model_module_version": "1.5.0",
          "state": {
            "_dom_classes": [],
            "_model_module": "@jupyter-widgets/controls",
            "_model_module_version": "1.5.0",
            "_model_name": "HBoxModel",
            "_view_count": null,
            "_view_module": "@jupyter-widgets/controls",
            "_view_module_version": "1.5.0",
            "_view_name": "HBoxView",
            "box_style": "",
            "children": [
              "IPY_MODEL_406bf40b3db64903a3271af90889fc8a",
              "IPY_MODEL_2ced1b06052e4c77ac7299c66da69b59"
            ],
            "layout": "IPY_MODEL_0b2e981fb98b4910af4c2ce0c1499a5e"
          }
        },
        "4925fbd1261c48a48fb9e055fc8e6464": {
          "model_module": "@jupyter-widgets/output",
          "model_name": "OutputModel",
          "model_module_version": "1.0.0",
          "state": {
            "_dom_classes": [],
            "_model_module": "@jupyter-widgets/output",
            "_model_module_version": "1.0.0",
            "_model_name": "OutputModel",
            "_view_count": null,
            "_view_module": "@jupyter-widgets/output",
            "_view_module_version": "1.0.0",
            "_view_name": "OutputView",
            "layout": "IPY_MODEL_ac6f50395e534cdfa1af0e70a31a8b4c",
            "msg_id": "",
            "outputs": []
          }
        },
        "51913e97ac9343d8a387c96fe6bfba7d": {
          "model_module": "@jupyter-widgets/base",
          "model_name": "LayoutModel",
          "model_module_version": "1.2.0",
          "state": {
            "_model_module": "@jupyter-widgets/base",
            "_model_module_version": "1.2.0",
            "_model_name": "LayoutModel",
            "_view_count": null,
            "_view_module": "@jupyter-widgets/base",
            "_view_module_version": "1.2.0",
            "_view_name": "LayoutView",
            "align_content": null,
            "align_items": null,
            "align_self": null,
            "border": null,
            "bottom": null,
            "display": null,
            "flex": null,
            "flex_flow": null,
            "grid_area": null,
            "grid_auto_columns": null,
            "grid_auto_flow": null,
            "grid_auto_rows": null,
            "grid_column": null,
            "grid_gap": null,
            "grid_row": null,
            "grid_template_areas": null,
            "grid_template_columns": null,
            "grid_template_rows": null,
            "height": null,
            "justify_content": null,
            "justify_items": null,
            "left": null,
            "margin": null,
            "max_height": null,
            "max_width": null,
            "min_height": null,
            "min_width": null,
            "object_fit": null,
            "object_position": null,
            "order": null,
            "overflow": null,
            "overflow_x": null,
            "overflow_y": null,
            "padding": null,
            "right": null,
            "top": null,
            "visibility": null,
            "width": null
          }
        },
        "406bf40b3db64903a3271af90889fc8a": {
          "model_module": "@jupyter-widgets/controls",
          "model_name": "BoxModel",
          "model_module_version": "1.5.0",
          "state": {
            "_dom_classes": [],
            "_model_module": "@jupyter-widgets/controls",
            "_model_module_version": "1.5.0",
            "_model_name": "BoxModel",
            "_view_count": null,
            "_view_module": "@jupyter-widgets/controls",
            "_view_module_version": "1.5.0",
            "_view_name": "BoxView",
            "box_style": "",
            "children": [
              "IPY_MODEL_c3e72326bfe74b5d8e74f47188da4f85"
            ],
            "layout": "IPY_MODEL_aec2ba14614a4a25b1446b9f3b45ac98"
          }
        },
        "2ced1b06052e4c77ac7299c66da69b59": {
          "model_module": "@jupyter-widgets/controls",
          "model_name": "ButtonModel",
          "model_module_version": "1.5.0",
          "state": {
            "_dom_classes": [],
            "_model_module": "@jupyter-widgets/controls",
            "_model_module_version": "1.5.0",
            "_model_name": "ButtonModel",
            "_view_count": null,
            "_view_module": "@jupyter-widgets/controls",
            "_view_module_version": "1.5.0",
            "_view_name": "ButtonView",
            "button_style": "success",
            "description": "Add Routers",
            "disabled": true,
            "icon": "",
            "layout": "IPY_MODEL_f119d23c59a4473696ce63db7e9c9d93",
            "style": "IPY_MODEL_71aa6797a19f4bbcb40c18b91ca775f3",
            "tooltip": ""
          }
        },
        "0b2e981fb98b4910af4c2ce0c1499a5e": {
          "model_module": "@jupyter-widgets/base",
          "model_name": "LayoutModel",
          "model_module_version": "1.2.0",
          "state": {
            "_model_module": "@jupyter-widgets/base",
            "_model_module_version": "1.2.0",
            "_model_name": "LayoutModel",
            "_view_count": null,
            "_view_module": "@jupyter-widgets/base",
            "_view_module_version": "1.2.0",
            "_view_name": "LayoutView",
            "align_content": null,
            "align_items": null,
            "align_self": null,
            "border": null,
            "bottom": null,
            "display": null,
            "flex": null,
            "flex_flow": null,
            "grid_area": null,
            "grid_auto_columns": null,
            "grid_auto_flow": null,
            "grid_auto_rows": null,
            "grid_column": null,
            "grid_gap": null,
            "grid_row": null,
            "grid_template_areas": null,
            "grid_template_columns": null,
            "grid_template_rows": null,
            "height": null,
            "justify_content": null,
            "justify_items": null,
            "left": null,
            "margin": null,
            "max_height": null,
            "max_width": null,
            "min_height": null,
            "min_width": null,
            "object_fit": null,
            "object_position": null,
            "order": null,
            "overflow": null,
            "overflow_x": null,
            "overflow_y": null,
            "padding": null,
            "right": null,
            "top": null,
            "visibility": null,
            "width": null
          }
        },
        "c3e72326bfe74b5d8e74f47188da4f85": {
          "model_module": "@jupyter-widgets/controls",
          "model_name": "ImageModel",
          "model_module_version": "1.5.0",
          "state": {
            "_dom_classes": [],
            "_model_module": "@jupyter-widgets/controls",
            "_model_module_version": "1.5.0",
            "_model_name": "ImageModel",
            "_view_count": null,
            "_view_module": "@jupyter-widgets/controls",
            "_view_module_version": "1.5.0",
            "_view_name": "ImageView",
            "format": "png",
            "height": "60",
            "layout": "IPY_MODEL_cf8fcfcf54d74d0da120610f622cad3a",
            "width": "65"
          }
        },
        "aec2ba14614a4a25b1446b9f3b45ac98": {
          "model_module": "@jupyter-widgets/base",
          "model_name": "LayoutModel",
          "model_module_version": "1.2.0",
          "state": {
            "_model_module": "@jupyter-widgets/base",
            "_model_module_version": "1.2.0",
            "_model_name": "LayoutModel",
            "_view_count": null,
            "_view_module": "@jupyter-widgets/base",
            "_view_module_version": "1.2.0",
            "_view_name": "LayoutView",
            "align_content": null,
            "align_items": null,
            "align_self": null,
            "border": null,
            "bottom": null,
            "display": null,
            "flex": null,
            "flex_flow": null,
            "grid_area": null,
            "grid_auto_columns": null,
            "grid_auto_flow": null,
            "grid_auto_rows": null,
            "grid_column": null,
            "grid_gap": null,
            "grid_row": null,
            "grid_template_areas": null,
            "grid_template_columns": null,
            "grid_template_rows": null,
            "height": null,
            "justify_content": null,
            "justify_items": null,
            "left": null,
            "margin": "0 10px 0 0",
            "max_height": null,
            "max_width": null,
            "min_height": null,
            "min_width": null,
            "object_fit": null,
            "object_position": null,
            "order": null,
            "overflow": null,
            "overflow_x": null,
            "overflow_y": null,
            "padding": null,
            "right": null,
            "top": null,
            "visibility": null,
            "width": null
          }
        },
        "f119d23c59a4473696ce63db7e9c9d93": {
          "model_module": "@jupyter-widgets/base",
          "model_name": "LayoutModel",
          "model_module_version": "1.2.0",
          "state": {
            "_model_module": "@jupyter-widgets/base",
            "_model_module_version": "1.2.0",
            "_model_name": "LayoutModel",
            "_view_count": null,
            "_view_module": "@jupyter-widgets/base",
            "_view_module_version": "1.2.0",
            "_view_name": "LayoutView",
            "align_content": null,
            "align_items": null,
            "align_self": null,
            "border": null,
            "bottom": null,
            "display": null,
            "flex": null,
            "flex_flow": null,
            "grid_area": null,
            "grid_auto_columns": null,
            "grid_auto_flow": null,
            "grid_auto_rows": null,
            "grid_column": null,
            "grid_gap": null,
            "grid_row": null,
            "grid_template_areas": null,
            "grid_template_columns": null,
            "grid_template_rows": null,
            "height": "60px",
            "justify_content": null,
            "justify_items": null,
            "left": null,
            "margin": null,
            "max_height": null,
            "max_width": null,
            "min_height": null,
            "min_width": null,
            "object_fit": null,
            "object_position": null,
            "order": null,
            "overflow": null,
            "overflow_x": null,
            "overflow_y": null,
            "padding": null,
            "right": null,
            "top": null,
            "visibility": null,
            "width": "220px"
          }
        },
        "71aa6797a19f4bbcb40c18b91ca775f3": {
          "model_module": "@jupyter-widgets/controls",
          "model_name": "ButtonStyleModel",
          "model_module_version": "1.5.0",
          "state": {
            "_model_module": "@jupyter-widgets/controls",
            "_model_module_version": "1.5.0",
            "_model_name": "ButtonStyleModel",
            "_view_count": null,
            "_view_module": "@jupyter-widgets/base",
            "_view_module_version": "1.2.0",
            "_view_name": "StyleView",
            "button_color": null,
            "font_weight": ""
          }
        },
        "cf8fcfcf54d74d0da120610f622cad3a": {
          "model_module": "@jupyter-widgets/base",
          "model_name": "LayoutModel",
          "model_module_version": "1.2.0",
          "state": {
            "_model_module": "@jupyter-widgets/base",
            "_model_module_version": "1.2.0",
            "_model_name": "LayoutModel",
            "_view_count": null,
            "_view_module": "@jupyter-widgets/base",
            "_view_module_version": "1.2.0",
            "_view_name": "LayoutView",
            "align_content": null,
            "align_items": null,
            "align_self": null,
            "border": null,
            "bottom": null,
            "display": null,
            "flex": null,
            "flex_flow": null,
            "grid_area": null,
            "grid_auto_columns": null,
            "grid_auto_flow": null,
            "grid_auto_rows": null,
            "grid_column": null,
            "grid_gap": null,
            "grid_row": null,
            "grid_template_areas": null,
            "grid_template_columns": null,
            "grid_template_rows": null,
            "height": null,
            "justify_content": null,
            "justify_items": null,
            "left": null,
            "margin": null,
            "max_height": null,
            "max_width": null,
            "min_height": null,
            "min_width": null,
            "object_fit": null,
            "object_position": null,
            "order": null,
            "overflow": null,
            "overflow_x": null,
            "overflow_y": null,
            "padding": null,
            "right": null,
            "top": null,
            "visibility": null,
            "width": null
          }
        },
        "ac6f50395e534cdfa1af0e70a31a8b4c": {
          "model_module": "@jupyter-widgets/base",
          "model_name": "LayoutModel",
          "model_module_version": "1.2.0",
          "state": {
            "_model_module": "@jupyter-widgets/base",
            "_model_module_version": "1.2.0",
            "_model_name": "LayoutModel",
            "_view_count": null,
            "_view_module": "@jupyter-widgets/base",
            "_view_module_version": "1.2.0",
            "_view_name": "LayoutView",
            "align_content": null,
            "align_items": null,
            "align_self": null,
            "border": null,
            "bottom": null,
            "display": null,
            "flex": null,
            "flex_flow": null,
            "grid_area": null,
            "grid_auto_columns": null,
            "grid_auto_flow": null,
            "grid_auto_rows": null,
            "grid_column": null,
            "grid_gap": null,
            "grid_row": null,
            "grid_template_areas": null,
            "grid_template_columns": null,
            "grid_template_rows": null,
            "height": null,
            "justify_content": null,
            "justify_items": null,
            "left": null,
            "margin": null,
            "max_height": null,
            "max_width": null,
            "min_height": null,
            "min_width": null,
            "object_fit": null,
            "object_position": null,
            "order": null,
            "overflow": null,
            "overflow_x": null,
            "overflow_y": null,
            "padding": null,
            "right": null,
            "top": null,
            "visibility": null,
            "width": null
          }
        },
        "e1eed25689e348e8aa3ea4d7b639b596": {
          "model_module": "@jupyter-widgets/controls",
          "model_name": "VBoxModel",
          "model_module_version": "1.5.0",
          "state": {
            "_dom_classes": [],
            "_model_module": "@jupyter-widgets/controls",
            "_model_module_version": "1.5.0",
            "_model_name": "VBoxModel",
            "_view_count": null,
            "_view_module": "@jupyter-widgets/controls",
            "_view_module_version": "1.5.0",
            "_view_name": "VBoxView",
            "box_style": "",
            "children": [
              "IPY_MODEL_e04d02000fc443eea38d90900b5f2965",
              "IPY_MODEL_4a22eb17cafe4a49a4eb5d6a26b5f67b"
            ],
            "layout": "IPY_MODEL_5cdfe01e022f4651af5c0e9cc6ce95f9"
          }
        },
        "e04d02000fc443eea38d90900b5f2965": {
          "model_module": "@jupyter-widgets/controls",
          "model_name": "HBoxModel",
          "model_module_version": "1.5.0",
          "state": {
            "_dom_classes": [],
            "_model_module": "@jupyter-widgets/controls",
            "_model_module_version": "1.5.0",
            "_model_name": "HBoxModel",
            "_view_count": null,
            "_view_module": "@jupyter-widgets/controls",
            "_view_module_version": "1.5.0",
            "_view_name": "HBoxView",
            "box_style": "",
            "children": [
              "IPY_MODEL_0f5c5a2cf2ee4735baf5cb373b228a93",
              "IPY_MODEL_c8877f5edadb4505a7aade12cdbf79c3"
            ],
            "layout": "IPY_MODEL_8a493f1f9728444b9b0bc08eae35a9bc"
          }
        },
        "4a22eb17cafe4a49a4eb5d6a26b5f67b": {
          "model_module": "@jupyter-widgets/output",
          "model_name": "OutputModel",
          "model_module_version": "1.0.0",
          "state": {
            "_dom_classes": [],
            "_model_module": "@jupyter-widgets/output",
            "_model_module_version": "1.0.0",
            "_model_name": "OutputModel",
            "_view_count": null,
            "_view_module": "@jupyter-widgets/output",
            "_view_module_version": "1.0.0",
            "_view_name": "OutputView",
            "layout": "IPY_MODEL_9a1f9d4af0d04375aa33819c0944512a",
            "msg_id": "",
            "outputs": []
          }
        },
        "5cdfe01e022f4651af5c0e9cc6ce95f9": {
          "model_module": "@jupyter-widgets/base",
          "model_name": "LayoutModel",
          "model_module_version": "1.2.0",
          "state": {
            "_model_module": "@jupyter-widgets/base",
            "_model_module_version": "1.2.0",
            "_model_name": "LayoutModel",
            "_view_count": null,
            "_view_module": "@jupyter-widgets/base",
            "_view_module_version": "1.2.0",
            "_view_name": "LayoutView",
            "align_content": null,
            "align_items": null,
            "align_self": null,
            "border": null,
            "bottom": null,
            "display": null,
            "flex": null,
            "flex_flow": null,
            "grid_area": null,
            "grid_auto_columns": null,
            "grid_auto_flow": null,
            "grid_auto_rows": null,
            "grid_column": null,
            "grid_gap": null,
            "grid_row": null,
            "grid_template_areas": null,
            "grid_template_columns": null,
            "grid_template_rows": null,
            "height": null,
            "justify_content": null,
            "justify_items": null,
            "left": null,
            "margin": null,
            "max_height": null,
            "max_width": null,
            "min_height": null,
            "min_width": null,
            "object_fit": null,
            "object_position": null,
            "order": null,
            "overflow": null,
            "overflow_x": null,
            "overflow_y": null,
            "padding": null,
            "right": null,
            "top": null,
            "visibility": null,
            "width": null
          }
        },
        "0f5c5a2cf2ee4735baf5cb373b228a93": {
          "model_module": "@jupyter-widgets/controls",
          "model_name": "BoxModel",
          "model_module_version": "1.5.0",
          "state": {
            "_dom_classes": [],
            "_model_module": "@jupyter-widgets/controls",
            "_model_module_version": "1.5.0",
            "_model_name": "BoxModel",
            "_view_count": null,
            "_view_module": "@jupyter-widgets/controls",
            "_view_module_version": "1.5.0",
            "_view_name": "BoxView",
            "box_style": "",
            "children": [
              "IPY_MODEL_ac1feee3a0de43c9a0ebe4d11356027b"
            ],
            "layout": "IPY_MODEL_a15c798bc72548fa8b1597a1de2f1490"
          }
        },
        "c8877f5edadb4505a7aade12cdbf79c3": {
          "model_module": "@jupyter-widgets/controls",
          "model_name": "ButtonModel",
          "model_module_version": "1.5.0",
          "state": {
            "_dom_classes": [],
            "_model_module": "@jupyter-widgets/controls",
            "_model_module_version": "1.5.0",
            "_model_name": "ButtonModel",
            "_view_count": null,
            "_view_module": "@jupyter-widgets/controls",
            "_view_module_version": "1.5.0",
            "_view_name": "ButtonView",
            "button_style": "success",
            "description": "Stage 2: Add Switches",
            "disabled": true,
            "icon": "",
            "layout": "IPY_MODEL_f12cf5d25335429aa4f7a98922530414",
            "style": "IPY_MODEL_42e69e10ff4540c08123189508784cb0",
            "tooltip": ""
          }
        },
        "8a493f1f9728444b9b0bc08eae35a9bc": {
          "model_module": "@jupyter-widgets/base",
          "model_name": "LayoutModel",
          "model_module_version": "1.2.0",
          "state": {
            "_model_module": "@jupyter-widgets/base",
            "_model_module_version": "1.2.0",
            "_model_name": "LayoutModel",
            "_view_count": null,
            "_view_module": "@jupyter-widgets/base",
            "_view_module_version": "1.2.0",
            "_view_name": "LayoutView",
            "align_content": null,
            "align_items": null,
            "align_self": null,
            "border": null,
            "bottom": null,
            "display": null,
            "flex": null,
            "flex_flow": null,
            "grid_area": null,
            "grid_auto_columns": null,
            "grid_auto_flow": null,
            "grid_auto_rows": null,
            "grid_column": null,
            "grid_gap": null,
            "grid_row": null,
            "grid_template_areas": null,
            "grid_template_columns": null,
            "grid_template_rows": null,
            "height": null,
            "justify_content": null,
            "justify_items": null,
            "left": null,
            "margin": null,
            "max_height": null,
            "max_width": null,
            "min_height": null,
            "min_width": null,
            "object_fit": null,
            "object_position": null,
            "order": null,
            "overflow": null,
            "overflow_x": null,
            "overflow_y": null,
            "padding": null,
            "right": null,
            "top": null,
            "visibility": null,
            "width": null
          }
        },
        "ac1feee3a0de43c9a0ebe4d11356027b": {
          "model_module": "@jupyter-widgets/controls",
          "model_name": "ImageModel",
          "model_module_version": "1.5.0",
          "state": {
            "_dom_classes": [],
            "_model_module": "@jupyter-widgets/controls",
            "_model_module_version": "1.5.0",
            "_model_name": "ImageModel",
            "_view_count": null,
            "_view_module": "@jupyter-widgets/controls",
            "_view_module_version": "1.5.0",
            "_view_name": "ImageView",
            "format": "png",
            "height": "60",
            "layout": "IPY_MODEL_6c13b93998024b5096d5f224f427c33b",
            "width": "65"
          }
        },
        "a15c798bc72548fa8b1597a1de2f1490": {
          "model_module": "@jupyter-widgets/base",
          "model_name": "LayoutModel",
          "model_module_version": "1.2.0",
          "state": {
            "_model_module": "@jupyter-widgets/base",
            "_model_module_version": "1.2.0",
            "_model_name": "LayoutModel",
            "_view_count": null,
            "_view_module": "@jupyter-widgets/base",
            "_view_module_version": "1.2.0",
            "_view_name": "LayoutView",
            "align_content": null,
            "align_items": null,
            "align_self": null,
            "border": null,
            "bottom": null,
            "display": null,
            "flex": null,
            "flex_flow": null,
            "grid_area": null,
            "grid_auto_columns": null,
            "grid_auto_flow": null,
            "grid_auto_rows": null,
            "grid_column": null,
            "grid_gap": null,
            "grid_row": null,
            "grid_template_areas": null,
            "grid_template_columns": null,
            "grid_template_rows": null,
            "height": null,
            "justify_content": null,
            "justify_items": null,
            "left": null,
            "margin": "0 10px 0 0",
            "max_height": null,
            "max_width": null,
            "min_height": null,
            "min_width": null,
            "object_fit": null,
            "object_position": null,
            "order": null,
            "overflow": null,
            "overflow_x": null,
            "overflow_y": null,
            "padding": null,
            "right": null,
            "top": null,
            "visibility": null,
            "width": null
          }
        },
        "f12cf5d25335429aa4f7a98922530414": {
          "model_module": "@jupyter-widgets/base",
          "model_name": "LayoutModel",
          "model_module_version": "1.2.0",
          "state": {
            "_model_module": "@jupyter-widgets/base",
            "_model_module_version": "1.2.0",
            "_model_name": "LayoutModel",
            "_view_count": null,
            "_view_module": "@jupyter-widgets/base",
            "_view_module_version": "1.2.0",
            "_view_name": "LayoutView",
            "align_content": null,
            "align_items": null,
            "align_self": null,
            "border": null,
            "bottom": null,
            "display": null,
            "flex": null,
            "flex_flow": null,
            "grid_area": null,
            "grid_auto_columns": null,
            "grid_auto_flow": null,
            "grid_auto_rows": null,
            "grid_column": null,
            "grid_gap": null,
            "grid_row": null,
            "grid_template_areas": null,
            "grid_template_columns": null,
            "grid_template_rows": null,
            "height": "60px",
            "justify_content": null,
            "justify_items": null,
            "left": null,
            "margin": null,
            "max_height": null,
            "max_width": null,
            "min_height": null,
            "min_width": null,
            "object_fit": null,
            "object_position": null,
            "order": null,
            "overflow": null,
            "overflow_x": null,
            "overflow_y": null,
            "padding": null,
            "right": null,
            "top": null,
            "visibility": null,
            "width": "220px"
          }
        },
        "42e69e10ff4540c08123189508784cb0": {
          "model_module": "@jupyter-widgets/controls",
          "model_name": "ButtonStyleModel",
          "model_module_version": "1.5.0",
          "state": {
            "_model_module": "@jupyter-widgets/controls",
            "_model_module_version": "1.5.0",
            "_model_name": "ButtonStyleModel",
            "_view_count": null,
            "_view_module": "@jupyter-widgets/base",
            "_view_module_version": "1.2.0",
            "_view_name": "StyleView",
            "button_color": null,
            "font_weight": ""
          }
        },
        "6c13b93998024b5096d5f224f427c33b": {
          "model_module": "@jupyter-widgets/base",
          "model_name": "LayoutModel",
          "model_module_version": "1.2.0",
          "state": {
            "_model_module": "@jupyter-widgets/base",
            "_model_module_version": "1.2.0",
            "_model_name": "LayoutModel",
            "_view_count": null,
            "_view_module": "@jupyter-widgets/base",
            "_view_module_version": "1.2.0",
            "_view_name": "LayoutView",
            "align_content": null,
            "align_items": null,
            "align_self": null,
            "border": null,
            "bottom": null,
            "display": null,
            "flex": null,
            "flex_flow": null,
            "grid_area": null,
            "grid_auto_columns": null,
            "grid_auto_flow": null,
            "grid_auto_rows": null,
            "grid_column": null,
            "grid_gap": null,
            "grid_row": null,
            "grid_template_areas": null,
            "grid_template_columns": null,
            "grid_template_rows": null,
            "height": null,
            "justify_content": null,
            "justify_items": null,
            "left": null,
            "margin": null,
            "max_height": null,
            "max_width": null,
            "min_height": null,
            "min_width": null,
            "object_fit": null,
            "object_position": null,
            "order": null,
            "overflow": null,
            "overflow_x": null,
            "overflow_y": null,
            "padding": null,
            "right": null,
            "top": null,
            "visibility": null,
            "width": null
          }
        },
        "9a1f9d4af0d04375aa33819c0944512a": {
          "model_module": "@jupyter-widgets/base",
          "model_name": "LayoutModel",
          "model_module_version": "1.2.0",
          "state": {
            "_model_module": "@jupyter-widgets/base",
            "_model_module_version": "1.2.0",
            "_model_name": "LayoutModel",
            "_view_count": null,
            "_view_module": "@jupyter-widgets/base",
            "_view_module_version": "1.2.0",
            "_view_name": "LayoutView",
            "align_content": null,
            "align_items": null,
            "align_self": null,
            "border": null,
            "bottom": null,
            "display": null,
            "flex": null,
            "flex_flow": null,
            "grid_area": null,
            "grid_auto_columns": null,
            "grid_auto_flow": null,
            "grid_auto_rows": null,
            "grid_column": null,
            "grid_gap": null,
            "grid_row": null,
            "grid_template_areas": null,
            "grid_template_columns": null,
            "grid_template_rows": null,
            "height": null,
            "justify_content": null,
            "justify_items": null,
            "left": null,
            "margin": null,
            "max_height": null,
            "max_width": null,
            "min_height": null,
            "min_width": null,
            "object_fit": null,
            "object_position": null,
            "order": null,
            "overflow": null,
            "overflow_x": null,
            "overflow_y": null,
            "padding": null,
            "right": null,
            "top": null,
            "visibility": null,
            "width": null
          }
        },
        "fee4ea059b0f4f17a1ebc2fde02a0978": {
          "model_module": "@jupyter-widgets/controls",
          "model_name": "VBoxModel",
          "model_module_version": "1.5.0",
          "state": {
            "_dom_classes": [],
            "_model_module": "@jupyter-widgets/controls",
            "_model_module_version": "1.5.0",
            "_model_name": "VBoxModel",
            "_view_count": null,
            "_view_module": "@jupyter-widgets/controls",
            "_view_module_version": "1.5.0",
            "_view_name": "VBoxView",
            "box_style": "",
            "children": [
              "IPY_MODEL_fe1f0d7d3fa84cd685ac228bf288e99d",
              "IPY_MODEL_1e0370a6d3ef47fbbe62480adf55fba8"
            ],
            "layout": "IPY_MODEL_97696f62b85b42fe8024f716fff4ec1c"
          }
        },
        "fe1f0d7d3fa84cd685ac228bf288e99d": {
          "model_module": "@jupyter-widgets/controls",
          "model_name": "HBoxModel",
          "model_module_version": "1.5.0",
          "state": {
            "_dom_classes": [],
            "_model_module": "@jupyter-widgets/controls",
            "_model_module_version": "1.5.0",
            "_model_name": "HBoxModel",
            "_view_count": null,
            "_view_module": "@jupyter-widgets/controls",
            "_view_module_version": "1.5.0",
            "_view_name": "HBoxView",
            "box_style": "",
            "children": [
              "IPY_MODEL_f2c18f4e937546e68fb73e38e8b334e2",
              "IPY_MODEL_f8d550aac0e545d2b5ab64cf4cbfb8a4"
            ],
            "layout": "IPY_MODEL_a902d5fddc9b443db26a732513b5488f"
          }
        },
        "1e0370a6d3ef47fbbe62480adf55fba8": {
          "model_module": "@jupyter-widgets/output",
          "model_name": "OutputModel",
          "model_module_version": "1.0.0",
          "state": {
            "_dom_classes": [],
            "_model_module": "@jupyter-widgets/output",
            "_model_module_version": "1.0.0",
            "_model_name": "OutputModel",
            "_view_count": null,
            "_view_module": "@jupyter-widgets/output",
            "_view_module_version": "1.0.0",
            "_view_name": "OutputView",
            "layout": "IPY_MODEL_005dfb4498c74addb53768997b1d1d81",
            "msg_id": "",
            "outputs": []
          }
        },
        "97696f62b85b42fe8024f716fff4ec1c": {
          "model_module": "@jupyter-widgets/base",
          "model_name": "LayoutModel",
          "model_module_version": "1.2.0",
          "state": {
            "_model_module": "@jupyter-widgets/base",
            "_model_module_version": "1.2.0",
            "_model_name": "LayoutModel",
            "_view_count": null,
            "_view_module": "@jupyter-widgets/base",
            "_view_module_version": "1.2.0",
            "_view_name": "LayoutView",
            "align_content": null,
            "align_items": null,
            "align_self": null,
            "border": null,
            "bottom": null,
            "display": null,
            "flex": null,
            "flex_flow": null,
            "grid_area": null,
            "grid_auto_columns": null,
            "grid_auto_flow": null,
            "grid_auto_rows": null,
            "grid_column": null,
            "grid_gap": null,
            "grid_row": null,
            "grid_template_areas": null,
            "grid_template_columns": null,
            "grid_template_rows": null,
            "height": null,
            "justify_content": null,
            "justify_items": null,
            "left": null,
            "margin": null,
            "max_height": null,
            "max_width": null,
            "min_height": null,
            "min_width": null,
            "object_fit": null,
            "object_position": null,
            "order": null,
            "overflow": null,
            "overflow_x": null,
            "overflow_y": null,
            "padding": null,
            "right": null,
            "top": null,
            "visibility": null,
            "width": null
          }
        },
        "f2c18f4e937546e68fb73e38e8b334e2": {
          "model_module": "@jupyter-widgets/controls",
          "model_name": "BoxModel",
          "model_module_version": "1.5.0",
          "state": {
            "_dom_classes": [],
            "_model_module": "@jupyter-widgets/controls",
            "_model_module_version": "1.5.0",
            "_model_name": "BoxModel",
            "_view_count": null,
            "_view_module": "@jupyter-widgets/controls",
            "_view_module_version": "1.5.0",
            "_view_name": "BoxView",
            "box_style": "",
            "children": [
              "IPY_MODEL_2ea1e2f38eab45bc8e804cb5c863c395"
            ],
            "layout": "IPY_MODEL_bb9eee020e7e4d97a7dfe9c1af2ca8c4"
          }
        },
        "f8d550aac0e545d2b5ab64cf4cbfb8a4": {
          "model_module": "@jupyter-widgets/controls",
          "model_name": "ButtonModel",
          "model_module_version": "1.5.0",
          "state": {
            "_dom_classes": [],
            "_model_module": "@jupyter-widgets/controls",
            "_model_module_version": "1.5.0",
            "_model_name": "ButtonModel",
            "_view_count": null,
            "_view_module": "@jupyter-widgets/controls",
            "_view_module_version": "1.5.0",
            "_view_name": "ButtonView",
            "button_style": "success",
            "description": "Stage 3: Add Hosts",
            "disabled": true,
            "icon": "",
            "layout": "IPY_MODEL_b4e81943be3e493396a661012adaa300",
            "style": "IPY_MODEL_cfbd8207fc574c60a71fd17444342061",
            "tooltip": ""
          }
        },
        "a902d5fddc9b443db26a732513b5488f": {
          "model_module": "@jupyter-widgets/base",
          "model_name": "LayoutModel",
          "model_module_version": "1.2.0",
          "state": {
            "_model_module": "@jupyter-widgets/base",
            "_model_module_version": "1.2.0",
            "_model_name": "LayoutModel",
            "_view_count": null,
            "_view_module": "@jupyter-widgets/base",
            "_view_module_version": "1.2.0",
            "_view_name": "LayoutView",
            "align_content": null,
            "align_items": null,
            "align_self": null,
            "border": null,
            "bottom": null,
            "display": null,
            "flex": null,
            "flex_flow": null,
            "grid_area": null,
            "grid_auto_columns": null,
            "grid_auto_flow": null,
            "grid_auto_rows": null,
            "grid_column": null,
            "grid_gap": null,
            "grid_row": null,
            "grid_template_areas": null,
            "grid_template_columns": null,
            "grid_template_rows": null,
            "height": null,
            "justify_content": null,
            "justify_items": null,
            "left": null,
            "margin": null,
            "max_height": null,
            "max_width": null,
            "min_height": null,
            "min_width": null,
            "object_fit": null,
            "object_position": null,
            "order": null,
            "overflow": null,
            "overflow_x": null,
            "overflow_y": null,
            "padding": null,
            "right": null,
            "top": null,
            "visibility": null,
            "width": null
          }
        },
        "2ea1e2f38eab45bc8e804cb5c863c395": {
          "model_module": "@jupyter-widgets/controls",
          "model_name": "ImageModel",
          "model_module_version": "1.5.0",
          "state": {
            "_dom_classes": [],
            "_model_module": "@jupyter-widgets/controls",
            "_model_module_version": "1.5.0",
            "_model_name": "ImageModel",
            "_view_count": null,
            "_view_module": "@jupyter-widgets/controls",
            "_view_module_version": "1.5.0",
            "_view_name": "ImageView",
            "format": "png",
            "height": "60",
            "layout": "IPY_MODEL_530e9231e5274b708a310f3721867439",
            "width": "65"
          }
        },
        "bb9eee020e7e4d97a7dfe9c1af2ca8c4": {
          "model_module": "@jupyter-widgets/base",
          "model_name": "LayoutModel",
          "model_module_version": "1.2.0",
          "state": {
            "_model_module": "@jupyter-widgets/base",
            "_model_module_version": "1.2.0",
            "_model_name": "LayoutModel",
            "_view_count": null,
            "_view_module": "@jupyter-widgets/base",
            "_view_module_version": "1.2.0",
            "_view_name": "LayoutView",
            "align_content": null,
            "align_items": null,
            "align_self": null,
            "border": null,
            "bottom": null,
            "display": null,
            "flex": null,
            "flex_flow": null,
            "grid_area": null,
            "grid_auto_columns": null,
            "grid_auto_flow": null,
            "grid_auto_rows": null,
            "grid_column": null,
            "grid_gap": null,
            "grid_row": null,
            "grid_template_areas": null,
            "grid_template_columns": null,
            "grid_template_rows": null,
            "height": null,
            "justify_content": null,
            "justify_items": null,
            "left": null,
            "margin": "0 10px 0 0",
            "max_height": null,
            "max_width": null,
            "min_height": null,
            "min_width": null,
            "object_fit": null,
            "object_position": null,
            "order": null,
            "overflow": null,
            "overflow_x": null,
            "overflow_y": null,
            "padding": null,
            "right": null,
            "top": null,
            "visibility": null,
            "width": null
          }
        },
        "b4e81943be3e493396a661012adaa300": {
          "model_module": "@jupyter-widgets/base",
          "model_name": "LayoutModel",
          "model_module_version": "1.2.0",
          "state": {
            "_model_module": "@jupyter-widgets/base",
            "_model_module_version": "1.2.0",
            "_model_name": "LayoutModel",
            "_view_count": null,
            "_view_module": "@jupyter-widgets/base",
            "_view_module_version": "1.2.0",
            "_view_name": "LayoutView",
            "align_content": null,
            "align_items": null,
            "align_self": null,
            "border": null,
            "bottom": null,
            "display": null,
            "flex": null,
            "flex_flow": null,
            "grid_area": null,
            "grid_auto_columns": null,
            "grid_auto_flow": null,
            "grid_auto_rows": null,
            "grid_column": null,
            "grid_gap": null,
            "grid_row": null,
            "grid_template_areas": null,
            "grid_template_columns": null,
            "grid_template_rows": null,
            "height": "60px",
            "justify_content": null,
            "justify_items": null,
            "left": null,
            "margin": null,
            "max_height": null,
            "max_width": null,
            "min_height": null,
            "min_width": null,
            "object_fit": null,
            "object_position": null,
            "order": null,
            "overflow": null,
            "overflow_x": null,
            "overflow_y": null,
            "padding": null,
            "right": null,
            "top": null,
            "visibility": null,
            "width": "220px"
          }
        },
        "cfbd8207fc574c60a71fd17444342061": {
          "model_module": "@jupyter-widgets/controls",
          "model_name": "ButtonStyleModel",
          "model_module_version": "1.5.0",
          "state": {
            "_model_module": "@jupyter-widgets/controls",
            "_model_module_version": "1.5.0",
            "_model_name": "ButtonStyleModel",
            "_view_count": null,
            "_view_module": "@jupyter-widgets/base",
            "_view_module_version": "1.2.0",
            "_view_name": "StyleView",
            "button_color": null,
            "font_weight": ""
          }
        },
        "530e9231e5274b708a310f3721867439": {
          "model_module": "@jupyter-widgets/base",
          "model_name": "LayoutModel",
          "model_module_version": "1.2.0",
          "state": {
            "_model_module": "@jupyter-widgets/base",
            "_model_module_version": "1.2.0",
            "_model_name": "LayoutModel",
            "_view_count": null,
            "_view_module": "@jupyter-widgets/base",
            "_view_module_version": "1.2.0",
            "_view_name": "LayoutView",
            "align_content": null,
            "align_items": null,
            "align_self": null,
            "border": null,
            "bottom": null,
            "display": null,
            "flex": null,
            "flex_flow": null,
            "grid_area": null,
            "grid_auto_columns": null,
            "grid_auto_flow": null,
            "grid_auto_rows": null,
            "grid_column": null,
            "grid_gap": null,
            "grid_row": null,
            "grid_template_areas": null,
            "grid_template_columns": null,
            "grid_template_rows": null,
            "height": null,
            "justify_content": null,
            "justify_items": null,
            "left": null,
            "margin": null,
            "max_height": null,
            "max_width": null,
            "min_height": null,
            "min_width": null,
            "object_fit": null,
            "object_position": null,
            "order": null,
            "overflow": null,
            "overflow_x": null,
            "overflow_y": null,
            "padding": null,
            "right": null,
            "top": null,
            "visibility": null,
            "width": null
          }
        },
        "005dfb4498c74addb53768997b1d1d81": {
          "model_module": "@jupyter-widgets/base",
          "model_name": "LayoutModel",
          "model_module_version": "1.2.0",
          "state": {
            "_model_module": "@jupyter-widgets/base",
            "_model_module_version": "1.2.0",
            "_model_name": "LayoutModel",
            "_view_count": null,
            "_view_module": "@jupyter-widgets/base",
            "_view_module_version": "1.2.0",
            "_view_name": "LayoutView",
            "align_content": null,
            "align_items": null,
            "align_self": null,
            "border": null,
            "bottom": null,
            "display": null,
            "flex": null,
            "flex_flow": null,
            "grid_area": null,
            "grid_auto_columns": null,
            "grid_auto_flow": null,
            "grid_auto_rows": null,
            "grid_column": null,
            "grid_gap": null,
            "grid_row": null,
            "grid_template_areas": null,
            "grid_template_columns": null,
            "grid_template_rows": null,
            "height": null,
            "justify_content": null,
            "justify_items": null,
            "left": null,
            "margin": null,
            "max_height": null,
            "max_width": null,
            "min_height": null,
            "min_width": null,
            "object_fit": null,
            "object_position": null,
            "order": null,
            "overflow": null,
            "overflow_x": null,
            "overflow_y": null,
            "padding": null,
            "right": null,
            "top": null,
            "visibility": null,
            "width": null
          }
        },
        "9a7b7d8f65644e04a5ace52ec48a2f06": {
          "model_module": "@jupyter-widgets/controls",
          "model_name": "VBoxModel",
          "model_module_version": "1.5.0",
          "state": {
            "_dom_classes": [],
            "_model_module": "@jupyter-widgets/controls",
            "_model_module_version": "1.5.0",
            "_model_name": "VBoxModel",
            "_view_count": null,
            "_view_module": "@jupyter-widgets/controls",
            "_view_module_version": "1.5.0",
            "_view_name": "VBoxView",
            "box_style": "",
            "children": [
              "IPY_MODEL_cddf805d55d747a7b8330e06d192fb81",
              "IPY_MODEL_64d69efb8f094fb48709be1626db1792"
            ],
            "layout": "IPY_MODEL_247ee31bfedd415d8eb066eb531147f6"
          }
        },
        "cddf805d55d747a7b8330e06d192fb81": {
          "model_module": "@jupyter-widgets/controls",
          "model_name": "HBoxModel",
          "model_module_version": "1.5.0",
          "state": {
            "_dom_classes": [],
            "_model_module": "@jupyter-widgets/controls",
            "_model_module_version": "1.5.0",
            "_model_name": "HBoxModel",
            "_view_count": null,
            "_view_module": "@jupyter-widgets/controls",
            "_view_module_version": "1.5.0",
            "_view_name": "HBoxView",
            "box_style": "",
            "children": [
              "IPY_MODEL_256f63ac2708496bb7e8861c09e0b711",
              "IPY_MODEL_3ccdb2ee0d554d9e9da11023d8442c58"
            ],
            "layout": "IPY_MODEL_86783c223c7e4f208bd1a75a3a34f461"
          }
        },
        "64d69efb8f094fb48709be1626db1792": {
          "model_module": "@jupyter-widgets/output",
          "model_name": "OutputModel",
          "model_module_version": "1.0.0",
          "state": {
            "_dom_classes": [],
            "_model_module": "@jupyter-widgets/output",
            "_model_module_version": "1.0.0",
            "_model_name": "OutputModel",
            "_view_count": null,
            "_view_module": "@jupyter-widgets/output",
            "_view_module_version": "1.0.0",
            "_view_name": "OutputView",
            "layout": "IPY_MODEL_b467b83ed94240ef827a0f370f35790e",
            "msg_id": "",
            "outputs": []
          }
        },
        "247ee31bfedd415d8eb066eb531147f6": {
          "model_module": "@jupyter-widgets/base",
          "model_name": "LayoutModel",
          "model_module_version": "1.2.0",
          "state": {
            "_model_module": "@jupyter-widgets/base",
            "_model_module_version": "1.2.0",
            "_model_name": "LayoutModel",
            "_view_count": null,
            "_view_module": "@jupyter-widgets/base",
            "_view_module_version": "1.2.0",
            "_view_name": "LayoutView",
            "align_content": null,
            "align_items": null,
            "align_self": null,
            "border": null,
            "bottom": null,
            "display": null,
            "flex": null,
            "flex_flow": null,
            "grid_area": null,
            "grid_auto_columns": null,
            "grid_auto_flow": null,
            "grid_auto_rows": null,
            "grid_column": null,
            "grid_gap": null,
            "grid_row": null,
            "grid_template_areas": null,
            "grid_template_columns": null,
            "grid_template_rows": null,
            "height": null,
            "justify_content": null,
            "justify_items": null,
            "left": null,
            "margin": null,
            "max_height": null,
            "max_width": null,
            "min_height": null,
            "min_width": null,
            "object_fit": null,
            "object_position": null,
            "order": null,
            "overflow": null,
            "overflow_x": null,
            "overflow_y": null,
            "padding": null,
            "right": null,
            "top": null,
            "visibility": null,
            "width": null
          }
        },
        "256f63ac2708496bb7e8861c09e0b711": {
          "model_module": "@jupyter-widgets/controls",
          "model_name": "BoxModel",
          "model_module_version": "1.5.0",
          "state": {
            "_dom_classes": [],
            "_model_module": "@jupyter-widgets/controls",
            "_model_module_version": "1.5.0",
            "_model_name": "BoxModel",
            "_view_count": null,
            "_view_module": "@jupyter-widgets/controls",
            "_view_module_version": "1.5.0",
            "_view_name": "BoxView",
            "box_style": "",
            "children": [
              "IPY_MODEL_5ce4eb0d9d9c4740ae3677b83016b020"
            ],
            "layout": "IPY_MODEL_3d91e0258afb4740bee7773576f1b862"
          }
        },
        "3ccdb2ee0d554d9e9da11023d8442c58": {
          "model_module": "@jupyter-widgets/controls",
          "model_name": "ButtonModel",
          "model_module_version": "1.5.0",
          "state": {
            "_dom_classes": [],
            "_model_module": "@jupyter-widgets/controls",
            "_model_module_version": "1.5.0",
            "_model_name": "ButtonModel",
            "_view_count": null,
            "_view_module": "@jupyter-widgets/controls",
            "_view_module_version": "1.5.0",
            "_view_name": "ButtonView",
            "button_style": "success",
            "description": "Stage 4: Add Servers",
            "disabled": true,
            "icon": "",
            "layout": "IPY_MODEL_388dadeeb21d4c84980c902f287e78fe",
            "style": "IPY_MODEL_252a771ead8d4b0bb7ba2170e33193ce",
            "tooltip": ""
          }
        },
        "86783c223c7e4f208bd1a75a3a34f461": {
          "model_module": "@jupyter-widgets/base",
          "model_name": "LayoutModel",
          "model_module_version": "1.2.0",
          "state": {
            "_model_module": "@jupyter-widgets/base",
            "_model_module_version": "1.2.0",
            "_model_name": "LayoutModel",
            "_view_count": null,
            "_view_module": "@jupyter-widgets/base",
            "_view_module_version": "1.2.0",
            "_view_name": "LayoutView",
            "align_content": null,
            "align_items": null,
            "align_self": null,
            "border": null,
            "bottom": null,
            "display": null,
            "flex": null,
            "flex_flow": null,
            "grid_area": null,
            "grid_auto_columns": null,
            "grid_auto_flow": null,
            "grid_auto_rows": null,
            "grid_column": null,
            "grid_gap": null,
            "grid_row": null,
            "grid_template_areas": null,
            "grid_template_columns": null,
            "grid_template_rows": null,
            "height": null,
            "justify_content": null,
            "justify_items": null,
            "left": null,
            "margin": null,
            "max_height": null,
            "max_width": null,
            "min_height": null,
            "min_width": null,
            "object_fit": null,
            "object_position": null,
            "order": null,
            "overflow": null,
            "overflow_x": null,
            "overflow_y": null,
            "padding": null,
            "right": null,
            "top": null,
            "visibility": null,
            "width": null
          }
        },
        "5ce4eb0d9d9c4740ae3677b83016b020": {
          "model_module": "@jupyter-widgets/controls",
          "model_name": "ImageModel",
          "model_module_version": "1.5.0",
          "state": {
            "_dom_classes": [],
            "_model_module": "@jupyter-widgets/controls",
            "_model_module_version": "1.5.0",
            "_model_name": "ImageModel",
            "_view_count": null,
            "_view_module": "@jupyter-widgets/controls",
            "_view_module_version": "1.5.0",
            "_view_name": "ImageView",
            "format": "png",
            "height": "60",
            "layout": "IPY_MODEL_d46514f5060945b48e03751e8e398695",
            "width": "65"
          }
        },
        "3d91e0258afb4740bee7773576f1b862": {
          "model_module": "@jupyter-widgets/base",
          "model_name": "LayoutModel",
          "model_module_version": "1.2.0",
          "state": {
            "_model_module": "@jupyter-widgets/base",
            "_model_module_version": "1.2.0",
            "_model_name": "LayoutModel",
            "_view_count": null,
            "_view_module": "@jupyter-widgets/base",
            "_view_module_version": "1.2.0",
            "_view_name": "LayoutView",
            "align_content": null,
            "align_items": null,
            "align_self": null,
            "border": null,
            "bottom": null,
            "display": null,
            "flex": null,
            "flex_flow": null,
            "grid_area": null,
            "grid_auto_columns": null,
            "grid_auto_flow": null,
            "grid_auto_rows": null,
            "grid_column": null,
            "grid_gap": null,
            "grid_row": null,
            "grid_template_areas": null,
            "grid_template_columns": null,
            "grid_template_rows": null,
            "height": null,
            "justify_content": null,
            "justify_items": null,
            "left": null,
            "margin": "0 10px 0 0",
            "max_height": null,
            "max_width": null,
            "min_height": null,
            "min_width": null,
            "object_fit": null,
            "object_position": null,
            "order": null,
            "overflow": null,
            "overflow_x": null,
            "overflow_y": null,
            "padding": null,
            "right": null,
            "top": null,
            "visibility": null,
            "width": null
          }
        },
        "388dadeeb21d4c84980c902f287e78fe": {
          "model_module": "@jupyter-widgets/base",
          "model_name": "LayoutModel",
          "model_module_version": "1.2.0",
          "state": {
            "_model_module": "@jupyter-widgets/base",
            "_model_module_version": "1.2.0",
            "_model_name": "LayoutModel",
            "_view_count": null,
            "_view_module": "@jupyter-widgets/base",
            "_view_module_version": "1.2.0",
            "_view_name": "LayoutView",
            "align_content": null,
            "align_items": null,
            "align_self": null,
            "border": null,
            "bottom": null,
            "display": null,
            "flex": null,
            "flex_flow": null,
            "grid_area": null,
            "grid_auto_columns": null,
            "grid_auto_flow": null,
            "grid_auto_rows": null,
            "grid_column": null,
            "grid_gap": null,
            "grid_row": null,
            "grid_template_areas": null,
            "grid_template_columns": null,
            "grid_template_rows": null,
            "height": "60px",
            "justify_content": null,
            "justify_items": null,
            "left": null,
            "margin": null,
            "max_height": null,
            "max_width": null,
            "min_height": null,
            "min_width": null,
            "object_fit": null,
            "object_position": null,
            "order": null,
            "overflow": null,
            "overflow_x": null,
            "overflow_y": null,
            "padding": null,
            "right": null,
            "top": null,
            "visibility": null,
            "width": "220px"
          }
        },
        "252a771ead8d4b0bb7ba2170e33193ce": {
          "model_module": "@jupyter-widgets/controls",
          "model_name": "ButtonStyleModel",
          "model_module_version": "1.5.0",
          "state": {
            "_model_module": "@jupyter-widgets/controls",
            "_model_module_version": "1.5.0",
            "_model_name": "ButtonStyleModel",
            "_view_count": null,
            "_view_module": "@jupyter-widgets/base",
            "_view_module_version": "1.2.0",
            "_view_name": "StyleView",
            "button_color": null,
            "font_weight": ""
          }
        },
        "d46514f5060945b48e03751e8e398695": {
          "model_module": "@jupyter-widgets/base",
          "model_name": "LayoutModel",
          "model_module_version": "1.2.0",
          "state": {
            "_model_module": "@jupyter-widgets/base",
            "_model_module_version": "1.2.0",
            "_model_name": "LayoutModel",
            "_view_count": null,
            "_view_module": "@jupyter-widgets/base",
            "_view_module_version": "1.2.0",
            "_view_name": "LayoutView",
            "align_content": null,
            "align_items": null,
            "align_self": null,
            "border": null,
            "bottom": null,
            "display": null,
            "flex": null,
            "flex_flow": null,
            "grid_area": null,
            "grid_auto_columns": null,
            "grid_auto_flow": null,
            "grid_auto_rows": null,
            "grid_column": null,
            "grid_gap": null,
            "grid_row": null,
            "grid_template_areas": null,
            "grid_template_columns": null,
            "grid_template_rows": null,
            "height": null,
            "justify_content": null,
            "justify_items": null,
            "left": null,
            "margin": null,
            "max_height": null,
            "max_width": null,
            "min_height": null,
            "min_width": null,
            "object_fit": null,
            "object_position": null,
            "order": null,
            "overflow": null,
            "overflow_x": null,
            "overflow_y": null,
            "padding": null,
            "right": null,
            "top": null,
            "visibility": null,
            "width": null
          }
        },
        "b467b83ed94240ef827a0f370f35790e": {
          "model_module": "@jupyter-widgets/base",
          "model_name": "LayoutModel",
          "model_module_version": "1.2.0",
          "state": {
            "_model_module": "@jupyter-widgets/base",
            "_model_module_version": "1.2.0",
            "_model_name": "LayoutModel",
            "_view_count": null,
            "_view_module": "@jupyter-widgets/base",
            "_view_module_version": "1.2.0",
            "_view_name": "LayoutView",
            "align_content": null,
            "align_items": null,
            "align_self": null,
            "border": null,
            "bottom": null,
            "display": null,
            "flex": null,
            "flex_flow": null,
            "grid_area": null,
            "grid_auto_columns": null,
            "grid_auto_flow": null,
            "grid_auto_rows": null,
            "grid_column": null,
            "grid_gap": null,
            "grid_row": null,
            "grid_template_areas": null,
            "grid_template_columns": null,
            "grid_template_rows": null,
            "height": null,
            "justify_content": null,
            "justify_items": null,
            "left": null,
            "margin": null,
            "max_height": null,
            "max_width": null,
            "min_height": null,
            "min_width": null,
            "object_fit": null,
            "object_position": null,
            "order": null,
            "overflow": null,
            "overflow_x": null,
            "overflow_y": null,
            "padding": null,
            "right": null,
            "top": null,
            "visibility": null,
            "width": null
          }
        }
      }
    }
  },
  "cells": [
    {
      "cell_type": "markdown",
      "source": [
        "# ***Machine Project by The Quadruple Threat Alpha Prophets***"
      ],
      "metadata": {
        "id": "Dcp_YzLhsQhd"
      }
    },
    {
      "cell_type": "markdown",
      "source": [
        "***CSS125L: Principles of Programming Lanugages Laboratory***\n",
        "\n",
        "**Machine Project**\n",
        "\n",
        "**Group Members:**\n",
        "*   Leviste, Lee Ryan A.\n",
        "*   Rodavia, Nicko.\n",
        "*   Santeco, Enrique S.\n",
        "*   Santos, Sean Jared R."
      ],
      "metadata": {
        "id": "6GH39mzAsPlx"
      }
    },
    {
      "cell_type": "markdown",
      "source": [
        "# ***Section 1: Introduction to the Problem/Task and Interpreter System***\n",
        "\n",
        "---\n",
        "\n"
      ],
      "metadata": {
        "id": "woPA0V71nSn-"
      }
    },
    {
      "cell_type": "markdown",
      "source": [
        "## **1.1 Packet Tracer Interpreter for ACL Configuration – Machine Project Overview**\n",
        "\n",
        "---"
      ],
      "metadata": {
        "id": "FXsfig0S-i7T"
      }
    },
    {
      "cell_type": "markdown",
      "source": [
        "This project implements a **Cisco Packet Tracer-inspired network command interpreter** that applies core principles of **compiler design**. It demonstrates how **lexical analysis, tokenization, syntax analysis, and command execution** can be applied to networking commands, bridging programming language concepts with real-world networking."
      ],
      "metadata": {
        "id": "VAF3FiM_no93"
      }
    },
    {
      "cell_type": "markdown",
      "source": [
        "## **1.2 Key Features**\n",
        "\n",
        "---"
      ],
      "metadata": {
        "id": "t-paVbe-ntFl"
      }
    },
    {
      "cell_type": "markdown",
      "source": [
        "- **Device Management:** Add and connect routers, hosts, and servers.\n",
        "- **CLI Configuration:** Supports commands like `enable`, `configure terminal`, and routing commands.\n",
        "- **Network Control:** Implement Access Control Lists (ACLs), VLANs and subnetting for packet filtering.\n",
        "- **Real-time Execution:** Processes commands sequentially and provides immediate feedback.\n",
        "- **Robust Error Handling:** Gracefully handles invalid inputs without crashing."
      ],
      "metadata": {
        "id": "b2txGiVNnzK3"
      }
    },
    {
      "cell_type": "markdown",
      "source": [
        "## **1.3 Project Significance**\n",
        "\n",
        "---"
      ],
      "metadata": {
        "id": "IGVmUfGpnxeM"
      }
    },
    {
      "cell_type": "markdown",
      "source": [
        "This project emphasizes the **core phases of a compiler/interpreter**, from parsing textual input to executing commands, showing how these concepts can model network configurations programmatically. It provides a practical understanding of how programming language principles can be applied beyond traditional software, into networking environments."
      ],
      "metadata": {
        "id": "OJoPVESOoAfQ"
      }
    },
    {
      "cell_type": "markdown",
      "source": [
        "# ***Section 2: Description of the Input Language***\n",
        "\n",
        "---\n",
        "\n"
      ],
      "metadata": {
        "id": "we2OVsKIofDd"
      }
    },
    {
      "cell_type": "markdown",
      "source": [
        "The input language designed for this interpreter is a **simplified command-line interface (CLI)** inspired by real-world network configuration tools such as Cisco IOS. It allows users to build, configure, and visualize a simulated network topology through buttons with descriptive labels and text fields for identifying IP addresses and the like, offering an intuitive way to model routers, switches, hosts, and servers. This language bridges the gap between complex networking syntax and an educational, Python-based simulation environment.\n"
      ],
      "metadata": {
        "id": "P91AyT5pounO"
      }
    },
    {
      "cell_type": "markdown",
      "source": [
        "## **2.1 Rationale**\n",
        "\n",
        "---\n",
        "\n"
      ],
      "metadata": {
        "id": "wyfNHoI2qraP"
      }
    },
    {
      "cell_type": "markdown",
      "source": [
        "The language was designed to mimic the structure and flow of actual network device commands while remaining lightweight and easy to parse. It helps users understand networking concepts such as **device setup, IP addressing, routing protocols, and access control lists** without needing physical hardware. By clicking buttons under gradio GUI and text fields for inputting IP addresses and subnet addresses. Returning with short, readable commands, which users can copy and paste to define and manipulate network structures interactively within Colab towards Cisco Packet Tracer files for testing."
      ],
      "metadata": {
        "id": "qeKDbBYVp1uo"
      }
    },
    {
      "cell_type": "markdown",
      "source": [
        "## **2.2 Structure**\n",
        "\n",
        "---\n",
        "\n"
      ],
      "metadata": {
        "id": "zQ4gnUf9riJ4"
      }
    },
    {
      "cell_type": "markdown",
      "source": [
        "The interpreter recognizes a predefined set of command tokens, grouped into two main categories:\n",
        "\n",
        "| **Category** | **Example Tokens / Commands** | **Purpose** |\n",
        "|---------------|-------------------------------|--------------|\n",
        "| **Network Topology** | `add router <name>`, `add switch <name>`, `connect <dev1> <dev2> <cable>`, `finish` | Creates and connects devices, finalizes topology setup. |\n",
        "| **CLI Configuration** | `enable`, `configure terminal`, `set hostname <dev> <name>`, `set interface <dev> <iface> <ip> <mask>` | Simulates router CLI commands for configuration. |\n",
        "| **Routing Protocols** | `set ospf <dev> <process> <network> <wildcard> <area>`, `set eigrp <dev> <asn> <network>`, `set rip <dev> <network>` | Enables and configures routing protocols. |\n",
        "| **Access Control Lists** | `set acl-std <dev> <num> <permit/deny> <src>`, `set acl-ext <dev> <num> <permit/deny> <proto> <src> <dst>` | Adds standard or extended ACL rules. |\n",
        "| **Utility Commands** | `save <dev>`, `show interfaces <dev>`, `show routing <dev>`, `clear cli` | Saves, displays, or resets configurations. |"
      ],
      "metadata": {
        "id": "fS5LGhpDrgUG"
      }
    },
    {
      "cell_type": "markdown",
      "source": [
        "## **2.3 Example Inputs**\n",
        "\n",
        "---\n",
        "\n"
      ],
      "metadata": {
        "id": "sUmGDUGqsEEm"
      }
    },
    {
      "cell_type": "markdown",
      "source": [
        "| **Type** | **Command Example** | **Interpreter Response** |\n",
        "|-----------|--------------------|---------------------------|\n",
        "| Valid | `add router R1` | Adds router `R1` to the topology. |\n",
        "| Valid | `connect R1 SW1 ethernet` | Connects `R1` to `SW1` with an ethernet link. |\n",
        "| Invalid | `addrouter R1` | **LexicalError:** Unrecognized command pattern. |\n",
        "| Invalid | `set interface R1 g0/0 192.168.1.1` | **SyntaxError:** Missing argument(s). Expected 4, got 3. |\n"
      ],
      "metadata": {
        "id": "UvN6oX2pr4Ii"
      }
    },
    {
      "cell_type": "markdown",
      "source": [
        "# ***Section 3: System Design***\n",
        "\n",
        "---\n",
        "\n"
      ],
      "metadata": {
        "id": "3gAzA_C0l0wi"
      }
    },
    {
      "cell_type": "markdown",
      "source": [
        "| Library / Module | Purpose / Functionality | Type |\n",
        "|------------------|------------------------|-------|\n",
        "| `re` | Used for defining and matching command patterns using **regular expressions** during lexical analysis. | Built-in |\n",
        "| `os` | Handles basic **file system operations** if needed (e.g., saving configurations). | Built-in |\n",
        "| `logging` | Provides a flexible framework for emitting log messages from Python programs. Used for application **diagnostics, debugging, and monitoring**. | Built-in |\n",
        "| `sys` | Captures command-line output and manages **interpreter I/O** streams. | Built-in |\n",
        "| `io` | Works with in-memory text streams for CLI command capturing. | Built-in |\n",
        "| `time` | Adds **delays or animations** for simulations and visual feedback. | Built-in |\n",
        "| `matplotlib.pyplot` | Used for **visualizing the network topology** with device icons and connections. | Third-party |\n",
        "| `matplotlib.image` | Loads **Cisco device icons** for inclusion in topology diagrams. | Third-party |\n",
        "| `matplotlib.offsetbox` | Positions image icons precisely within the topology visualization. | Third-party |\n",
        "| `networkx` | Creates and manages **graph-based representations** of the network topology. | Third-party |\n",
        "| `ipywidgets` | Provides **interactive buttons and UI controls** for executing commands or visualizing updates in Colab. | Third-party |\n",
        "| `IPython.display` | Displays widgets, plots, and formatted output directly in Jupyter/Colab cells. | Third-party |"
      ],
      "metadata": {
        "id": "7S-apbSLl5at"
      }
    },
    {
      "cell_type": "code",
      "source": [
        "# Import all necessary libraries\n",
        "import re                             # Regular Expressions\n",
        "import os                             # File system operations\n",
        "import logging                        # Logging\n",
        "import matplotlib.pyplot as plt       # Plotting\n",
        "import networkx as nx                 # Graph/network structures\n",
        "import matplotlib.image as mpimg      # Read/Load Cisco device icon images\n",
        "from matplotlib.offsetbox import OffsetImage, AnnotationBbox  # Position icons in plots\n",
        "import ipywidgets as widgets          # Interactive widgets for creating buttons, sliders, and other UI controls\n",
        "import time                           # Time delays for button flashing or simulations\n",
        "from IPython.display import display   # Display widgets, outputs, and plots\n",
        "import io, sys                        # Utility: run one interpreter sentence and capture printed output; return (printer_output, cli_history_text, cli_commands_text)\n",
        "import gradio as gr                   # Import gradio for User Interface"
      ],
      "metadata": {
        "id": "tAVZbRuftjbk"
      },
      "execution_count": null,
      "outputs": []
    },
    {
      "cell_type": "markdown",
      "source": [
        "Comprehensive, color-coded logging is implemented for each phase, including command processing, lexical tokenization, syntax and semantic validation, and execution outcomes, saved in `interpreter.log` in accordance with standard development practices to facilitate debugging and monitoring of network topology and CLI commands."
      ],
      "metadata": {
        "id": "XjLEKoU344mr"
      }
    },
    {
      "cell_type": "code",
      "source": [
        "class ColorFormatter(logging.Formatter):\n",
        "    COLORS = {\n",
        "        'DEBUG': '\\033[36m',   # Cyan\n",
        "        'INFO': '\\033[32m',    # Green\n",
        "        'WARNING': '\\033[33m', # Yellow\n",
        "        'ERROR': '\\033[31m',   # Red\n",
        "        'CRITICAL': '\\033[41m' # Red background\n",
        "    }\n",
        "    RESET = '\\033[0m'\n",
        "\n",
        "    def format(self, record):\n",
        "        color = self.COLORS.get(record.levelname, self.RESET)\n",
        "        timestamp = self.formatTime(record, '%Y-%m-%d %H:%M:%S')\n",
        "        record_message = f\"{timestamp} [{record.levelname}] {record.getMessage()}\"\n",
        "        return f\"{color}{record_message}{self.RESET}\"\n",
        "\n",
        "# Log file path\n",
        "log_path = \"/content/interpreter.log\"\n",
        "\n",
        "# Reset root handlers\n",
        "for handler in logging.root.handlers[:]:\n",
        "    logging.root.removeHandler(handler)\n",
        "\n",
        "# Create Logger\n",
        "logger = logging.getLogger(\"interpreter\")\n",
        "logger.handlers.clear()\n",
        "logger.setLevel(logging.DEBUG) # Dev level logs\n",
        "logger.propagate = False\n",
        "\n",
        "# File logs\n",
        "file_handler = logging.FileHandler(log_path, mode=\"a\")\n",
        "file_handler.setFormatter(logging.Formatter(\"%(asctime)s [%(levelname)s] %(message)s\"))\n",
        "logger.addHandler(file_handler)\n",
        "\n",
        "# Console logs\n",
        "console_handler = logging.StreamHandler()\n",
        "console_handler.setFormatter(ColorFormatter(\"%(levelname)s: %(message)s\"))\n",
        "logger.addHandler(console_handler)\n",
        "\n",
        "logger.info(\"Packet Tracer Interpreter is successfully initialized. Logging commenced.\")"
      ],
      "metadata": {
        "id": "5AHMmNH5vzgm",
        "colab": {
          "base_uri": "https://localhost:8080/"
        },
        "outputId": "198b4490-681e-461e-d7e1-56b4bbe2f0c9"
      },
      "execution_count": null,
      "outputs": [
        {
          "output_type": "stream",
          "name": "stderr",
          "text": [
            "\u001b[32m2025-10-28 04:04:28 [INFO] Packet Tracer Interpreter is successfully initialized. Logging commenced.\u001b[0m\n"
          ]
        }
      ]
    },
    {
      "cell_type": "markdown",
      "source": [
        "Predefine custom exception classes to handle lexical, syntax, and semantic errors, ensuring structured and consistent error reporting throughout the interpreter’s execution phases."
      ],
      "metadata": {
        "id": "lWfS6xoUmvTZ"
      }
    },
    {
      "cell_type": "code",
      "source": [
        "# Custom exceptions for lexical, syntax and semantic errors\n",
        "class LexicalError(Exception):      # Raised when a command contains unrecognized tokens or invalid characters.\n",
        "    pass\n",
        "\n",
        "class SyntaxError(Exception):       # Raised when a command has correct keywords but incorrect structure or missing arguments.\n",
        "    pass\n",
        "\n",
        "class SemanticError(Exception):     # Raised when a command is logically invalid in the current context (symbol table).\n",
        "    pass"
      ],
      "metadata": {
        "id": "8Rp_7Q7rSqEQ"
      },
      "execution_count": null,
      "outputs": []
    },
    {
      "cell_type": "markdown",
      "source": [
        "# ***Section 4: Data Preprocessing and Cleaning***\n",
        "\n",
        "---\n",
        "\n"
      ],
      "metadata": {
        "id": "2iPB17Svhtq_"
      }
    },
    {
      "cell_type": "markdown",
      "source": [
        "The interpreter architecture follows the classic three-stage compiler model, composed of the Lexer (Tokenizer), Parser, and Executor (Interpreter Engine). Input commands first pass through the Lexer, which uses regular expressions to identify command patterns and extract arguments, converting raw text into structured tokens. The Parser then validates these tokens through syntax and semantic analysis, ensuring the correct command format, valid arguments, and logical consistency using the shared symbol_table. Once validated, the Executor performs the corresponding action, such as adding devices, connecting nodes, or generating CLI commands. Errors encountered at any stage trigger specific handlers—LexicalError, SyntaxError, or SemanticError—to provide user-friendly feedback without halting execution. This modular, bottom-up design was chosen for clarity, scalability, and to closely mirror how real interpreters process and execute language commands, making it both educational and practical for network simulation."
      ],
      "metadata": {
        "id": "t-cBkOhBiXqC"
      }
    },
    {
      "cell_type": "markdown",
      "source": [
        "**Architecture Overview:**\n",
        "| Component | Main Functions/Variables | Purpose |\n",
        "|-----------|--------------------------|---------|\n",
        "| `Lexer` | `TOKENS`, `tokenize()` | Converts user input into tokens using regex patterns, identifying commands and extracting arguments. |\n",
        "| `Parser` | `syntax_check()`, `semantic_check()`, `EXPECTED_ARGS` | Validates command syntax (structure) and semantics (logic), ensuring valid arguments and device existence. |\n",
        "| `Executor` | `exec_add_device()`, `exec_connect()`, `append_cli_block()`, `command handlers` | Executes validated commands, updates the `symbol_table`, and generates CLI configurations or topology changes. |\n",
        "| `Handler Registry` | `@command_handler`, `handlers{} dictionary` | Maps command tokens to execution functions using decorator pattern for modular command handling. |\n",
        "| `Symbol Table` | `symbol_table (devices, connections, cli_commands)` | Stores the current network state — including devices, connections, and CLI command history. |\n",
        "| `Error Handling` | `LexicalError`, `SyntaxError`, `SemanticError` | Captures and displays clear feedback when invalid commands, structures, or logical inconsistencies occur. |\n",
        "| `Interpreter` | `handle_command()`, `run_interpreter_capture()` | Orchestrates the complete compiler pipeline (Lexer → Parser → Executor) and manages command execution flow. |\n",
        "| `Logging System` | `ColorFormatter`, `logger` | Logging system that tracks interpreter activity per stage. Timestamps and levels (INFO, WARNING, ERROR, CRITICAL) are used to visualize compiler flow and runtime diagnostics. |"
      ],
      "metadata": {
        "id": "sWVYhqtOjuq-"
      }
    },
    {
      "cell_type": "markdown",
      "source": [
        "# ***Section 5: Implementation Details***\n",
        "\n",
        "---\n",
        "\n"
      ],
      "metadata": {
        "id": "ZyvgXEcEcv3T"
      }
    },
    {
      "cell_type": "markdown",
      "source": [
        "The interpreter is composed of several integrated components that process and execute network configuration commands. It starts with the lexer, which tokenizes user input, followed by the parser that maps tokens to corresponding handler functions. Syntax and semantic analyzers validate the correctness and logic of each command using data stored in the symbol table, which tracks devices, connections, and CLI configurations. The executor then performs the validated actions and updates the system state, while error handlers provide feedback for invalid inputs."
      ],
      "metadata": {
        "id": "lrImrhNXdJEG"
      }
    },
    {
      "cell_type": "markdown",
      "source": [
        "## **5.1 Lexer**\n",
        "\n",
        "---\n",
        "\n"
      ],
      "metadata": {
        "id": "CBYU_rckBrI6"
      }
    },
    {
      "cell_type": "markdown",
      "source": [
        "Define the lexer for cisco commands under `TOKENS` variable\n",
        "\n",
        "\n",
        "> Contains commands and their regex patterns for Network Topology and CLI commands\n",
        "\n"
      ],
      "metadata": {
        "id": "n6pgMbqjMv-t"
      }
    },
    {
      "cell_type": "code",
      "source": [
        "# Define recognized commands and their regex patterns\n",
        "TOKENS = [\n",
        "    # Network topology\n",
        "    (\"ADD_ROUTER\", r\"add\\s+router\\s+(\\w+)\"),\n",
        "    (\"ADD_SWITCH\", r\"add\\s+switch\\s+(\\w+)\"),\n",
        "    (\"ADD_HOST\", r\"add\\s+host\\s+(\\w+)\"),\n",
        "    (\"ADD_SERVER\", r\"add\\s+server\\s+(\\w+)\"),\n",
        "    (\"CONNECT\", r\"connect\\s+(\\w+)\\s+(\\w+)\\s+(\\w+)\"),\n",
        "    (\"FINISH\", r\"finish\"),\n",
        "    # CLI commands\n",
        "    (\"CLI_ENABLE\", r\"enable\\s*$\"),\n",
        "    (\"CLI_CONF_T\", r\"configure\\s+terminal\\s*$\"),\n",
        "    (\"SET_HOSTNAME\", r\"set\\s+hostname\\s+(\\w+)\\s+(\\w+)\\s*$\"),\n",
        "    (\"SET_INTERFACE\", r\"set\\s+interface\\s+(\\w+)\\s+(\\S+)\\s+(\\d+\\.\\d+\\.\\d+\\.\\d+)\\s+(\\d+\\.\\d+\\.\\d+\\.\\d+)\\s*$\"),\n",
        "    (\"SET_STATIC\", r\"set\\s+static-route\\s+(\\w+)\\s+(\\d+\\.\\d+\\.\\d+\\.\\d+)\\s+(\\d+\\.\\d+\\.\\d+\\.\\d+)\\s+(\\d+\\.\\d+\\.\\d+\\.\\d+)\\s*$\"),\n",
        "    (\"SET_OSPF\", r\"set\\s+ospf\\s+(\\w+)\\s+(\\d+)\\s+(\\d+\\.\\d+\\.\\d+\\.\\d+)\\s+(\\d+\\.\\d+\\.\\d+\\.\\d+)\\s+(\\d+)\\s*$\"),\n",
        "    (\"SET_EIGRP\", r\"set\\s+eigrp\\s+(\\w+)\\s+(\\d+)\\s+(\\d+\\.\\d+\\.\\d+\\.\\d+)\\s*$\"),\n",
        "    (\"SET_RIP\", r\"set\\s+rip\\s+(\\w+)\\s+(\\d+\\.\\d+\\.\\d+\\.\\d+)\\s*$\"),\n",
        "    (\"SET_DHCP\", r\"set\\s+dhcp\\s+(\\w+)\\s+(\\w+)\\s+(\\d+\\.\\d+\\.\\d+\\.\\d+)\\s+(\\d+\\.\\d+\\.\\d+\\.\\d+)\\s+(\\d+\\.\\d+\\.\\d+\\.\\d+)\\s+(\\d+\\.\\d+\\.\\d+\\.\\d+)\\s*$\"),\n",
        "    (\"SET_ACL_STD\", r\"set\\s+acl-std\\s+(\\w+)\\s+(\\d+)\\s+(permit|deny)\\s+(.+)$\"),\n",
        "    (\"SET_ACL_EXT\", r\"set\\s+acl-ext\\s+(\\w+)\\s+(\\d+)\\s+(permit|deny)\\s+(\\S+)\\s+(\\S+)\\s+(\\S+)\\s*$\"),\n",
        "    (\"SAVE\", r\"save\\s+(\\w+)\\s*$\"),\n",
        "    (\"SHOW_IFACE\", r\"show\\s+interfaces\\s+(\\w+)\\s*$\"),\n",
        "    (\"SHOW_ROUTE\", r\"show\\s+routing\\s+(\\w+)\\s*$\"),\n",
        "    (\"CLEAR_CLI\", r\"clear\\s+cli\\s*$\")\n",
        "]\n",
        "\n",
        "# Precompile regexes for performance\n",
        "TOKENS = [(tok, re.compile(pat, re.IGNORECASE)) for tok, pat in TOKENS]"
      ],
      "metadata": {
        "id": "DjlSO3Ol1CO-"
      },
      "execution_count": null,
      "outputs": []
    },
    {
      "cell_type": "markdown",
      "source": [
        "Create the `tokenize(command)` function which:\n",
        "\n",
        "> Breaks command strings into tokens with extracted arguments using regex, letting the parser identify the action and its parameters."
      ],
      "metadata": {
        "id": "WnVlDKdcNchJ"
      }
    },
    {
      "cell_type": "code",
      "source": [
        "# Tokenizer\n",
        "def tokenize(command):\n",
        "    for token, regex in TOKENS:\n",
        "        match = regex.match(command)\n",
        "        if match:\n",
        "            logger.debug(f\"[LEXICAL] Matched token: {token}, args: {match.groups()}\")\n",
        "            return token, match.groups()\n",
        "    logger.error(f\"[LEXICAL ERROR] Unrecognized command '{command}'\")\n",
        "    raise LexicalError(f\"Unrecognized command: '{command}'\")"
      ],
      "metadata": {
        "id": "HVboDsHtNSWu"
      },
      "execution_count": null,
      "outputs": []
    },
    {
      "cell_type": "markdown",
      "source": [
        "## **5.2 Parser**\n",
        "\n",
        "---\n",
        "\n",
        "\n"
      ],
      "metadata": {
        "id": "k3N7VAWaGDHQ"
      }
    },
    {
      "cell_type": "markdown",
      "source": [
        "### **5.2.1 Syntax Analysis**"
      ],
      "metadata": {
        "id": "cQyunmSrT5cP"
      }
    },
    {
      "cell_type": "markdown",
      "source": [
        "Ensures the command has the correct **number of arguments** and **valid non-empty arguments**.  "
      ],
      "metadata": {
        "id": "L5eVeJJpPssf"
      }
    },
    {
      "cell_type": "markdown",
      "source": [
        "\n",
        "\n",
        "---\n",
        "\n"
      ],
      "metadata": {
        "id": "NxLtRbyASdv-"
      }
    },
    {
      "cell_type": "markdown",
      "source": [
        "Define the expected number of arguments for each command token in `EXPECTED_ARGS` dict"
      ],
      "metadata": {
        "id": "l3yCCfmoXnIT"
      }
    },
    {
      "cell_type": "code",
      "source": [
        "# Raises SyntaxError if arguments are missing, empty, or incorrect count\n",
        "EXPECTED_ARGS = {\n",
        "    # Network topology\n",
        "    \"ADD_ROUTER\": 1, \"ADD_SWITCH\": 1, \"ADD_HOST\": 1,\n",
        "    \"ADD_SERVER\": 1, \"CONNECT\": 3, \"FINISH\": 0,\n",
        "    # CLI Commands\n",
        "    \"CLI_ENABLE\": 0, \"CLI_CONF_T\": 0, \"SET_HOSTNAME\": 2,\n",
        "    \"SET_INTERFACE\": 4, \"SET_STATIC\": 4, \"SET_OSPF\": 5,\n",
        "    \"SET_EIGRP\": 3, \"SET_RIP\": 2, \"SET_DHCP\": 6,\n",
        "    \"SET_ACL_STD\": 4, \"SET_ACL_EXT\": 6, \"SAVE\": 1,\n",
        "    \"SHOW_IFACE\": 1, \"SHOW_ROUTE\": 1, \"CLEAR_CLI\": 0\n",
        "}"
      ],
      "metadata": {
        "id": "HzS-rHxwXoUv"
      },
      "execution_count": null,
      "outputs": []
    },
    {
      "cell_type": "markdown",
      "source": [
        "Define function `syntax_check(token, args)` to ensure only correctly structured arguments are accepted before ***5.1.2 Semantic Analysis***"
      ],
      "metadata": {
        "id": "qrdxJS47X7Rv"
      }
    },
    {
      "cell_type": "code",
      "source": [
        "def syntax_check(token, args):\n",
        "    expected = EXPECTED_ARGS.get(token)\n",
        "    if expected is None:\n",
        "        logger.error(f\"[SYNTAX ERROR] Unknown token '{token}'\")\n",
        "        raise SyntaxError(f\"Unknown token '{token}'\")\n",
        "    if len(args) != expected:\n",
        "        logger.error(f\"[SYNTAX ERROR] Argument count mismatch for '{token}': expected {expected}, got {len(args)}\")\n",
        "        raise SyntaxError(f\"'{token}' expects {expected} argument(s), got {len(args)}\")\n",
        "    if any(not arg or str(arg).strip() == \"\" for arg in args):\n",
        "        logger.error(f\"[SYNTAX ERROR] Missing or empty argument(s) in '{token}'\")\n",
        "        raise SyntaxError(f\"Missing or empty argument(s) in '{token}'\")\n",
        "    logger.debug(f\"[SYNTAX] '{token}' arguments OK, args={args}\")"
      ],
      "metadata": {
        "id": "wweoEGvqNfBC"
      },
      "execution_count": null,
      "outputs": []
    },
    {
      "cell_type": "markdown",
      "source": [
        "### **5.2.2 Semantic Analysis**"
      ],
      "metadata": {
        "id": "3Mc6WwaRQxps"
      }
    },
    {
      "cell_type": "markdown",
      "source": [
        "Verify **logical correctness** of commands against the current **network state** (`symbol_table`).  "
      ],
      "metadata": {
        "id": "YG4X5RsiPnqF"
      }
    },
    {
      "cell_type": "markdown",
      "source": [
        "\n",
        "\n",
        "---\n",
        "\n"
      ],
      "metadata": {
        "id": "HImfrXGOScHZ"
      }
    },
    {
      "cell_type": "markdown",
      "source": [
        "Create the `symbol_table` dictionary with variables `devices` (dictionary), `connections` (list of tuples), and `cli_commands` (list)\n",
        "\n",
        "| Sections               | Description                                                                 |\n",
        "|------------------------|------------------------------------------------------------------------------|\n",
        "| `devices: {}\t`                 | A dict that stores all added cisco routers, hosts, and servers.|\n",
        "| `connections: []\t`              | A list that stores each entry connection into a tuple.|\n",
        "| `cli_commands: []\t`              | A list that stores cli commands prompted in gradio.|\n",
        "\n",
        "\n",
        "```\n",
        "symbol_table = {\n",
        "  devices: {},\n",
        "  connections: [],\n",
        "  cli_commands: []\n",
        "}\n",
        "```"
      ],
      "metadata": {
        "id": "C-kpx7E7UtA9"
      }
    },
    {
      "cell_type": "code",
      "source": [
        "# Symbol Table\n",
        "# Stores the current network and CLI state\n",
        "symbol_table = {\n",
        "    \"devices\": {},       # device_name -> type (router, switch, host, server)\n",
        "    \"connections\": [],   # list of tuples (device1, device2, cable_type)\n",
        "    \"cli_commands\": []   # stores executed CLI commands (enable, configure terminal, etc.)\n",
        "}"
      ],
      "metadata": {
        "id": "DSXh520lPc5H"
      },
      "execution_count": null,
      "outputs": []
    },
    {
      "cell_type": "markdown",
      "source": [
        "Define `helper` checking functions:\n",
        "\n",
        "\n",
        "*   _check_device() verifies that a referenced device exists before use.\n",
        "*   '_check_ip()' validates that IP addresses follow correct dotted-decimal format."
      ],
      "metadata": {
        "id": "2dLSKo5EWSB8"
      }
    },
    {
      "cell_type": "code",
      "source": [
        "# Helper functions\n",
        "def _check_device(name):\n",
        "    if name.upper() not in symbol_table[\"devices\"]:\n",
        "        raise SemanticError(f\"Device '{name}' does not exist.\")\n",
        "\n",
        "def _check_ip(ip):\n",
        "    try:\n",
        "        parts = ip.split('.')\n",
        "        return len(parts) == 4 and all(0 <= int(p) <= 255 for p in parts)\n",
        "    except:\n",
        "        return False"
      ],
      "metadata": {
        "id": "4aDW1LOrPhZS"
      },
      "execution_count": null,
      "outputs": []
    },
    {
      "cell_type": "markdown",
      "source": [
        "Define `semantic_check(token, args)` function to prevent adding duplicate devices, ensure devices exist before configuration, and verify ip addresses and subnet masks are valid"
      ],
      "metadata": {
        "id": "MqBeS12pW1MO"
      }
    },
    {
      "cell_type": "code",
      "source": [
        "# Semantic Analysis\n",
        "def semantic_check(token, args):\n",
        "    try:\n",
        "        # Topology\n",
        "        if token.startswith(\"ADD_\"):\n",
        "            if args[0].upper() in symbol_table[\"devices\"]:\n",
        "                logger.warning(f\"[SEMANTIC ERROR] Duplicate device '{args[0]}' detected.\")\n",
        "                raise SemanticError(f\"Device '{args[0]}' already exists.\")\n",
        "\n",
        "        elif token == \"CONNECT\":\n",
        "            for d in args[:2]:\n",
        "                _check_device(d)\n",
        "\n",
        "        # CLI Command\n",
        "        elif token in {\n",
        "            \"SET_HOSTNAME\", \"SET_INTERFACE\", \"SET_STATIC\", \"SET_OSPF\",\n",
        "            \"SET_EIGRP\", \"SET_RIP\", \"SET_DHCP\", \"SET_ACL_STD\", \"SET_ACL_EXT\",\n",
        "            \"SAVE\", \"SHOW_IFACE\", \"SHOW_ROUTE\"\n",
        "        }:\n",
        "            _check_device(args[0])\n",
        "            if token == \"SET_INTERFACE\" and (not _check_ip(args[2]) or not _check_ip(args[3])):\n",
        "                logger.error(f\"[SEMANTIC ERROR] Invalid IP/mask in SET_INTERFACE: {args[2]}, {args[3]}\")\n",
        "                raise SemanticError(f\"Invalid IP or mask: {args[2]} {args[3]}\")\n",
        "            if token == \"SET_STATIC\" and not all(_check_ip(ip) for ip in args[1:]):\n",
        "                logger.error(f\"[SEMANTIC ERROR] Invalid IP in static route: {args[1:]}\")\n",
        "                raise SemanticError(\"Invalid IP in static route\")\n",
        "\n",
        "        elif token in {\"CLI_ENABLE\", \"CLI_CONF_T\", \"CLEAR_CLI\"}:\n",
        "            pass\n",
        "\n",
        "        logger.debug(f\"[SEMANTIC] '{token}' validation OK, args={args}\")\n",
        "\n",
        "    except SemanticError as e:\n",
        "        logger.error(f\"[SEMANTIC] Error for '{token}': {e}\")\n",
        "        raise"
      ],
      "metadata": {
        "id": "S4z2ozakWy0o"
      },
      "execution_count": null,
      "outputs": []
    },
    {
      "cell_type": "markdown",
      "source": [
        "## **5.3 Executor**\n",
        "\n",
        "\n",
        "---\n",
        "\n",
        "\n"
      ],
      "metadata": {
        "id": "psAmO9a9So5V"
      }
    },
    {
      "cell_type": "markdown",
      "source": [
        "Responsible for **applying validated commands** to the network state (`symbol_table`) and producing output.  \n",
        "Assumes **lexical, syntax, and semantic checks** have already passed."
      ],
      "metadata": {
        "id": "lnLBEtSKQYXf"
      }
    },
    {
      "cell_type": "markdown",
      "source": [
        "\n",
        "\n",
        "---\n",
        "\n"
      ],
      "metadata": {
        "id": "jx8_YY5ISadr"
      }
    },
    {
      "cell_type": "markdown",
      "source": [
        "Define `exec()` functions that perform the actual actions once commands have passed through lexical, syntax, and semantic analysis."
      ],
      "metadata": {
        "id": "6tEn_eHmUS1X"
      }
    },
    {
      "cell_type": "code",
      "source": [
        "# Execution Phase\n",
        "# Network topology\n",
        "def exec_add_device(name, token_type):\n",
        "    dtype = token_type.split(\"_\")[1].lower()                                    # Extracts device type from token\n",
        "    symbol_table[\"devices\"][name.upper()] = dtype                               # Adds device to symbol table\n",
        "    logger.info(f\"[EXECUTOR] Added device: name='{name.upper()}', type='{dtype}'\")\n",
        "\n",
        "def exec_connect(dev1, dev2, cable):\n",
        "    symbol_table[\"connections\"].append((dev1.upper(), dev2.upper(), cable))    # Adds connection to symbol table\n",
        "    logger.info(f\"[EXECUTOR] Connected devices: {dev1.upper()} <-> {dev2.upper()} via {cable}\")\n",
        "\n",
        "def exec_finish():\n",
        "    logger.info(\"[TOPOLOGY] Checking setup summary...\")\n",
        "    errors = []\n",
        "\n",
        "    # Required device types\n",
        "    required_types = [\"router\", \"switch\", \"host\", \"server\"]\n",
        "    for dtype in required_types:\n",
        "        if not any(dev_type == dtype for dev_type in symbol_table[\"devices\"].values()):\n",
        "            errors.append(f\"No {dtype} found.\")\n",
        "\n",
        "    # Check for at least one connection\n",
        "    if not symbol_table[\"connections\"]:\n",
        "        errors.append(\"No connections found.\")\n",
        "\n",
        "    # Display summary\n",
        "    if errors:\n",
        "        logger.warning(\"Network Setup incomplete:\")\n",
        "        for e in errors:\n",
        "            logger.warning(f\"- {e}\")\n",
        "    else:\n",
        "        logger.info(\"[SUCCESS] Network setup complete.\")\n",
        "        visualize_topology()\n",
        "\n",
        "# CLI commands\n",
        "def append_cli_block(action, commands):\n",
        "\n",
        "    symbol_table.setdefault(\"cli_commands\", [])\n",
        "\n",
        "    # Gather all previously appended CLI lines globally\n",
        "    existing_cmds = []\n",
        "    for entry in symbol_table[\"cli_commands\"]:\n",
        "        existing_cmds.extend(entry.get(\"commands\", []))\n",
        "\n",
        "    filtered = []\n",
        "    for cmd in commands:\n",
        "        # Skip duplicates of already executed CLI commands\n",
        "        if cmd not in existing_cmds:\n",
        "            filtered.append(cmd)\n",
        "        else:\n",
        "            logger.info(f\"[CLI] Skipped duplicate command: {cmd}\")\n",
        "\n",
        "    if not filtered:\n",
        "        logger.info(f\"[CLI] {action} -> no new commands appended (all duplicates skipped).\")\n",
        "        return\n",
        "\n",
        "    symbol_table[\"cli_commands\"].append({\n",
        "        \"action\": action,\n",
        "        \"commands\": filtered\n",
        "    })\n",
        "\n",
        "    logger.info(f\"[CLI] {action} -> appended {len(filtered)} new command(s).\")"
      ],
      "metadata": {
        "id": "DL4r2bF91Ewc"
      },
      "execution_count": null,
      "outputs": []
    },
    {
      "cell_type": "markdown",
      "source": [
        "### **5.3.1 Command Handlers**\n",
        "\n",
        "---\n"
      ],
      "metadata": {
        "id": "LTLUwxyxTUMX"
      }
    },
    {
      "cell_type": "markdown",
      "source": [
        "Responsible for **binding validated commands** to their respective **semantic checks** and **execution functions**.  \n",
        "Uses a **registry and decorators** to keep the code modular and easily extensible.\n",
        "\n",
        "\n"
      ],
      "metadata": {
        "id": "Lsu71TECRCt2"
      }
    },
    {
      "cell_type": "markdown",
      "source": [
        "\n",
        "\n",
        "---\n",
        "\n"
      ],
      "metadata": {
        "id": "8Y9-zht_SYhm"
      }
    },
    {
      "cell_type": "markdown",
      "source": [
        "Declare `handlers` dictionary\n",
        "\n",
        "\n",
        "> Used to map each command token (e.g., ADD_ROUTER, SET_STATIC) to the correct function that will execute that command.\n",
        "\n"
      ],
      "metadata": {
        "id": "NXMrKJCwSP-S"
      }
    },
    {
      "cell_type": "code",
      "source": [
        "# Registry mapping command tokens to their corresponding handler functions\n",
        "handlers = {}"
      ],
      "metadata": {
        "id": "zku7cVBaSNDD"
      },
      "execution_count": null,
      "outputs": []
    },
    {
      "cell_type": "markdown",
      "source": [
        "Define `command_handler(*token_types)` decorator\n",
        "\n",
        "\n",
        "> Automatically registers a function as the handler for one or more command tokens. Which avoids manual mapping and keeps command handling modular and organized.\n",
        "\n"
      ],
      "metadata": {
        "id": "E8lvPF7aSwAo"
      }
    },
    {
      "cell_type": "code",
      "source": [
        "# Decorator to register a function for a specific command token\n",
        "def command_handler(*token_types):\n",
        "    def decorator(fn):\n",
        "        for token_type in token_types:\n",
        "            handlers[token_type] = fn\n",
        "        return fn\n",
        "    return decorator"
      ],
      "metadata": {
        "id": "D8I23sQYSt6G"
      },
      "execution_count": null,
      "outputs": []
    },
    {
      "cell_type": "markdown",
      "source": [
        "Define `command_handler` functions to store outputs within `symbol_table` dictionary\n",
        "\n",
        "\n",
        "*   Each function performs the actual execution or CLI generation for a recognized command\n",
        "*   Handlers are automatically registered through the @command_handler decorator\n",
        "\n"
      ],
      "metadata": {
        "id": "2K1gdiA3TfmY"
      }
    },
    {
      "cell_type": "code",
      "source": [
        "# Network Topology Handlers\n",
        "@command_handler(\"ADD_ROUTER\", \"ADD_SWITCH\", \"ADD_HOST\", \"ADD_SERVER\")\n",
        "def add_device_handler(*args, token_type=None):\n",
        "    name = args[0]\n",
        "    if token_type is None:\n",
        "        token_type = \"ADD_DEVICE\"\n",
        "    exec_add_device(name, token_type)\n",
        "\n",
        "@command_handler(\"CONNECT\")\n",
        "def connect_handler(*args):\n",
        "    exec_connect(*args[:3])\n",
        "\n",
        "@command_handler(\"FINISH\")\n",
        "def finish_handler(*args):\n",
        "    exec_finish()\n",
        "\n",
        "# CLI handler functions\n",
        "@command_handler(\"CLI_ENABLE\")\n",
        "def h_cli_enable():\n",
        "    append_cli_block(\"Enter Privileged EXEC Mode\", [\"enable\"])\n",
        "\n",
        "@command_handler(\"CLI_CONF_T\")\n",
        "def h_cli_conf_t():\n",
        "    append_cli_block(\"Enter Global Configuration Mode\", [\"enable\", \"configure terminal\"])\n",
        "\n",
        "@command_handler(\"SET_HOSTNAME\")\n",
        "def h_set_hostname(router, newname):\n",
        "    # router arg not strictly used here to set hostname, but included to match the sentence shape\n",
        "    append_cli_block(f\"Set hostname on {router}\", [\"enable\", \"configure terminal\", f\"hostname {newname}\", \"end\"])\n",
        "\n",
        "@command_handler(\"SET_INTERFACE\")\n",
        "def h_set_interface(router, iface, ip, mask):\n",
        "    append_cli_block(f\"Configure interface {iface} on {router}\", [\n",
        "        \"enable\",\n",
        "        \"configure terminal\",\n",
        "        f\"interface {iface}\",\n",
        "        f\"ip address {ip} {mask}\",\n",
        "        \"no shutdown\",\n",
        "        \"end\"\n",
        "    ])\n",
        "\n",
        "@command_handler(\"SET_STATIC\")\n",
        "def h_set_static(router, network, mask, nxt):\n",
        "    append_cli_block(f\"Configure static route on {router}\", [\n",
        "        \"enable\",\n",
        "        \"configure terminal\",\n",
        "        f\"ip route {network} {mask} {nxt}\",\n",
        "        \"end\"\n",
        "    ])\n",
        "\n",
        "@command_handler(\"SET_OSPF\")\n",
        "def h_set_ospf(router, proc, network, wildcard, area):\n",
        "    append_cli_block(f\"Configure OSPF on {router}\", [\n",
        "        \"enable\",\n",
        "        \"configure terminal\",\n",
        "        f\"router ospf {proc}\",\n",
        "        f\"network {network} {wildcard} area {area}\",\n",
        "        \"end\"\n",
        "    ])\n",
        "\n",
        "@command_handler(\"SET_EIGRP\")\n",
        "def h_set_eigrp(router, asnum, network):\n",
        "    append_cli_block(f\"Configure EIGRP on {router}\", [\n",
        "        \"enable\",\n",
        "        \"configure terminal\",\n",
        "        f\"router eigrp {asnum}\",\n",
        "        f\"network {network}\",\n",
        "        \"no auto-summary\",\n",
        "        \"end\"\n",
        "    ])\n",
        "\n",
        "@command_handler(\"SET_RIP\")\n",
        "def h_set_rip(router, network):\n",
        "    append_cli_block(f\"Configure RIP on {router}\", [\n",
        "        \"enable\",\n",
        "        \"configure terminal\",\n",
        "        \"router rip\",\n",
        "        \"version 2\",\n",
        "        f\"network {network}\",\n",
        "        \"no auto-summary\",\n",
        "        \"end\"\n",
        "    ])\n",
        "\n",
        "@command_handler(\"SET_DHCP\")\n",
        "def h_set_dhcp(router, pool, network, mask, gw, dns):\n",
        "    append_cli_block(f\"Configure DHCP pool {pool} on {router}\", [\n",
        "        \"enable\",\n",
        "        \"configure terminal\",\n",
        "        f\"ip dhcp pool {pool}\",\n",
        "        f\"network {network} {mask}\",\n",
        "        f\"default-router {gw}\",\n",
        "        f\"dns-server {dns}\",\n",
        "        \"exit\",\n",
        "        \"end\"\n",
        "    ])\n",
        "\n",
        "@command_handler(\"SET_ACL_STD\")\n",
        "def h_set_acl_std(router, num, action, src):\n",
        "    append_cli_block(f\"Configure Standard ACL {num} on {router}\", [\n",
        "        \"enable\",\n",
        "        \"configure terminal\",\n",
        "        f\"access-list {num} {action} {src}\",\n",
        "        \"end\"\n",
        "    ])\n",
        "\n",
        "@command_handler(\"SET_ACL_EXT\")\n",
        "def h_set_acl_ext(router, num, action, proto, src, dst):\n",
        "    append_cli_block(f\"Configure Extended ACL {num} on {router}\", [\n",
        "        \"enable\",\n",
        "        \"configure terminal\",\n",
        "        f\"access-list {num} {action} {proto} {src} {dst}\",\n",
        "        \"end\"\n",
        "    ])\n",
        "\n",
        "@command_handler(\"SAVE\")\n",
        "def h_save(router):\n",
        "    append_cli_block(f\"Save running-config to startup-config on {router}\", [\n",
        "        \"enable\",\n",
        "        \"copy running-config startup-config\",\n",
        "        \"\"\n",
        "    ])\n",
        "\n",
        "@command_handler(\"SHOW_IFACE\")\n",
        "def h_show_iface(router):\n",
        "    append_cli_block(f\"Show interfaces on {router}\", [\n",
        "        \"enable\",\n",
        "        \"show ip interface brief\"\n",
        "    ])\n",
        "\n",
        "@command_handler(\"SHOW_ROUTE\")\n",
        "def h_show_route(router):\n",
        "    append_cli_block(f\"Show routing table on {router}\", [\n",
        "        \"enable\",\n",
        "        \"show ip route\"\n",
        "    ])\n",
        "\n",
        "@command_handler(\"CLEAR_CLI\")\n",
        "def h_clear_cli():\n",
        "    symbol_table[\"cli_commands\"] = []\n",
        "    print(\"[CLI] Cleared all generated CLI command blocks.\")"
      ],
      "metadata": {
        "id": "_pxBvhu3P4zb"
      },
      "execution_count": null,
      "outputs": []
    },
    {
      "cell_type": "markdown",
      "source": [
        "\n",
        "## **5.4 Interpreter**\n",
        "\n",
        "---"
      ],
      "metadata": {
        "id": "tNhm9--VHdVh"
      }
    },
    {
      "cell_type": "markdown",
      "source": [
        "This function **coordinates all compiler phases** for a single command:  \n",
        "1. **Lexical Analysis** — tokenizes the command.  \n",
        "2. **Syntax Analysis** — validates arguments.  \n",
        "3. **Semantic Analysis + Execution** — handled via registered handlers.\n",
        "4. **Error Handling** — raises `LexicalError`, `SyntaxError`, and `SemanticError` to handle unexpected excepetions"
      ],
      "metadata": {
        "id": "XkI0uVA8a-4g"
      }
    },
    {
      "cell_type": "markdown",
      "source": [
        "\n",
        "\n",
        "---\n",
        "\n"
      ],
      "metadata": {
        "id": "S44TwZbxa_2q"
      }
    },
    {
      "cell_type": "markdown",
      "source": [
        "Define `handle_command(cmd)` to manage the entire cisco command-processing pipeline"
      ],
      "metadata": {
        "id": "zdnEfaEHbCtY"
      }
    },
    {
      "cell_type": "code",
      "source": [
        "# Parse a command string, find the right handler, and execute it.\n",
        "def handle_command(cmd):\n",
        "    logger.info(f\"[INTERPRETER] Processing command: {cmd}\")\n",
        "    try:\n",
        "        token, args = tokenize(cmd)           # Lexical Analysis\n",
        "        syntax_check(token, args)             # Syntax Analysis\n",
        "        semantic_check(token, args)           # Semantic Analysis\n",
        "        handler = handlers[token]             # Retrieve handler\n",
        "        logger.debug(f\"[INTERPRETER] Handler found for token '{token}'\")\n",
        "\n",
        "        # Unified execution for ALL commands\n",
        "        if token.startswith(\"ADD_\"):\n",
        "            handler(*args, token_type=token)\n",
        "        elif token in {\"CLI_ENABLE\", \"CLI_CONF_T\", \"CLEAR_CLI\", \"FINISH\"}:\n",
        "            handler()  # No arguments\n",
        "        else:\n",
        "            handler(*args)  # All other commands with arguments\n",
        "        logger.info(f\"[SUCCESS] Command interpreted: '{cmd}'\")\n",
        "\n",
        "    except (LexicalError, SyntaxError, SemanticError) as e:\n",
        "        logger.warning(f\"[INTERPRETER ERROR] token='{token}' args='{args}' -> {e}\")\n",
        "    except Exception as e:\n",
        "        logger.exception(f\"[UNEXPECTED ERROR] token='{token}' args='{args}' while executing '{cmd}'\")"
      ],
      "metadata": {
        "id": "5tJ9Z4W5zynp"
      },
      "execution_count": null,
      "outputs": []
    },
    {
      "cell_type": "markdown",
      "source": [
        "## **5.5 Error Handling**\n",
        "\n",
        "---\n",
        "\n"
      ],
      "metadata": {
        "id": "lWhATFY-bv0R"
      }
    },
    {
      "cell_type": "markdown",
      "source": [
        "Helps identify whether the issue is with command recognition, structure, or logical meaning."
      ],
      "metadata": {
        "id": "FMTdT3lrcLSy"
      }
    },
    {
      "cell_type": "markdown",
      "source": [
        "\n",
        "\n",
        "---\n",
        "\n"
      ],
      "metadata": {
        "id": "Gc0lntx_cafc"
      }
    },
    {
      "cell_type": "markdown",
      "source": [
        "Define custom error classes for different stages of command validation — `LexicalError`, `SyntaxError`, and `SemanticError`which were defined earlier in the code"
      ],
      "metadata": {
        "id": "Im_1ZDYocbJz"
      }
    },
    {
      "cell_type": "markdown",
      "source": [
        "\n",
        "\n",
        "```\n",
        "# Custom exceptions for lexical, syntax and semantic errors\n",
        "class LexicalError(Exception):      # Raised when a command contains unrecognized tokens or invalid characters.\n",
        "    pass\n",
        "\n",
        "class SyntaxError(Exception):       # Raised when a command has correct keywords but incorrect structure or missing arguments.\n",
        "    pass\n",
        "\n",
        "class SemanticError(Exception):     # Raised when a command is logically invalid in the current context (symbol table).\n",
        "    pass\n",
        "```\n",
        "\n"
      ],
      "metadata": {
        "id": "3EmQedDtb6lX"
      }
    },
    {
      "cell_type": "markdown",
      "source": [
        "# ***Section 6: Testing with Valid and Invalid Inputs***\n",
        "\n",
        "---\n",
        "\n"
      ],
      "metadata": {
        "id": "qex_VtoddVRY"
      }
    },
    {
      "cell_type": "markdown",
      "source": [
        "Automated test cases are executed for lexical, syntax, semantic, and interpreter phases to ensure each compiler stage functions correctly. Logging is temporarily suppressed to avoid clutter, and the original symbol table state is restored after testing to prevent interference with the topology."
      ],
      "metadata": {
        "id": "2D9y7lGb55vz"
      }
    },
    {
      "cell_type": "code",
      "source": [
        "# Suppress logs temporarily for testing (Pwede pa din ilabas pero verbose)\n",
        "logger.setLevel(logging.CRITICAL)\n",
        "\n",
        "# Wrap compiler-phase commands\n",
        "def tokenize_wrapper(cmd):\n",
        "    token, args = tokenize(cmd)\n",
        "    return f\"{token} {args}\"\n",
        "\n",
        "def syntax_wrapper(t):\n",
        "    token, args = t\n",
        "    syntax_check(token, args)\n",
        "    return \"Argument count OK\"\n",
        "\n",
        "def semantic_wrapper(t):\n",
        "    token, args = t\n",
        "    semantic_check(token, args)\n",
        "    return \"Logical validation OK\"\n",
        "\n",
        "def interpreter_wrapper(token):\n",
        "    h = handlers.get(token)\n",
        "    if not h:\n",
        "        raise Exception(\"No handler found\")\n",
        "    return f\"Handler available: {h.__name__}\"\n",
        "\n",
        "# Test cases\n",
        "tests = {\n",
        "    \"LEXICAL ANALYSIS TEST CASES\": ([\"add router R1\",\"configure terminal\",\"set interface R1 Gig0/0 192.168.1.1 255.255.255.0\"],\n",
        "                                    [\"add firewall FW1\",\"delete router R1\",\"set bgp R1 65000\"],\n",
        "                                    tokenize_wrapper),\n",
        "    \"SYNTAX ANALYSIS TEST CASES\": ([(\"ADD_ROUTER\",[\"R1\"]),(\"CONNECT\",[\"R1\",\"SW1\",\"Ethernet\"]),\n",
        "                                    (\"SET_INTERFACE\",[\"R1\",\"Gig0/0\",\"192.168.1.1\",\"255.255.255.0\"])],\n",
        "                                   [(\"ADD_ROUTER\",[]),(\"CONNECT\",[\"R1\",\"SW1\"]),(\"SET_INTERFACE\",[\"R1\",\"192.168.1.1\"])],\n",
        "                                   syntax_wrapper),\n",
        "    \"SEMANTIC ANALYSIS TEST CASES\": ([(\"ADD_ROUTER\",[\"R2\"]),(\"CONNECT\",[\"R1\",\"SW1\",\"Ethernet\"]),\n",
        "                                      (\"SET_INTERFACE\",[\"R1\",\"Gig0/0\",\"192.168.1.1\",\"255.255.255.0\"])],\n",
        "                                     [(\"ADD_ROUTER\",[\"R1\"]),(\"CONNECT\",[\"R1\",\"R3\",\"Ethernet\"]),\n",
        "                                      (\"SET_INTERFACE\",[\"R1\",\"Gig0/0\",\"300.400.500.600\",\"255.255.255.0\"])],\n",
        "                                     semantic_wrapper),\n",
        "    \"INTERPRETER TEST CASES\": ([\"ADD_ROUTER\",\"CONNECT\",\"SET_INTERFACE\"],\n",
        "                               [\"UNKNOWN_TOKEN\",\"INVALID_COMMAND\",\"RANDOM_TOKEN\"],\n",
        "                               interpreter_wrapper)\n",
        "}\n",
        "\n",
        "# Save original devices\n",
        "original_devices = symbol_table[\"devices\"].copy()\n",
        "symbol_table[\"devices\"].update({\"R1\":\"router\",\"SW1\":\"switch\"})\n",
        "\n",
        "# Access color codes from your ColorFormatter\n",
        "GREEN = ColorFormatter.COLORS['INFO']  # green\n",
        "RED   = ColorFormatter.COLORS['ERROR'] # red\n",
        "TITLE_COLOR = ColorFormatter.COLORS['DEBUG'] # cyan\n",
        "RESET = ColorFormatter.RESET\n",
        "\n",
        "# Run tests\n",
        "total_tests = total_passed = 0\n",
        "\n",
        "for group_name, (pass_cases, fail_cases, fn) in tests.items():\n",
        "    TOTAL_WIDTH = 80\n",
        "    print(f\"\\n\\n{TITLE_COLOR}┌─ {group_name} ─{'─'*(TOTAL_WIDTH - len(group_name) - 15)}┐{RESET}\\n\")\n",
        "    group_passed = 0\n",
        "    for case, expected in [(c,\"Pass\") for c in pass_cases] + [(c,\"Fail\") for c in fail_cases]:\n",
        "        try:\n",
        "            fn(case)\n",
        "            outcome = \"Pass\"\n",
        "        except Exception:\n",
        "            outcome = \"Fail\"\n",
        "        result = \"PASS\" if outcome == expected else \"FAIL\"\n",
        "        if result == \"PASS\":\n",
        "            group_passed += 1\n",
        "            total_passed += 1\n",
        "        total_tests += 1\n",
        "        case_str = repr(case)\n",
        "        color = GREEN if result == \"PASS\" else RED\n",
        "        print(f\"{case_str:<75} [{color}{result}{RESET}] (Expected: {expected}, Got: {outcome})\")\n",
        "\n",
        "    success_rate = group_passed / (len(pass_cases) + len(fail_cases)) * 100\n",
        "    print(f\"{GREEN}{group_name} Success Rate: {group_passed}/{len(pass_cases)+len(fail_cases)} = {success_rate:.1f}%{RESET}\")\n",
        "overall_rate = total_passed / total_tests * 100\n",
        "print(f\"\\n{GREEN}OVERALL SUCCESS RATE {total_passed}/{total_tests} = {overall_rate:.1f}%{RESET}\")\n",
        "\n",
        "# Restore symbol_table original state after testing\n",
        "symbol_table[\"devices\"] = original_devices.copy()\n",
        "\n",
        "# Re-enable logs\n",
        "logger.setLevel(logging.DEBUG)"
      ],
      "metadata": {
        "colab": {
          "base_uri": "https://localhost:8080/"
        },
        "id": "5OQA2cxFnmoJ",
        "outputId": "39480965-1e32-4aa3-f4bf-2a5c53301558"
      },
      "execution_count": null,
      "outputs": [
        {
          "output_type": "stream",
          "name": "stdout",
          "text": [
            "\n",
            "\n",
            "\u001b[36m┌─ LEXICAL ANALYSIS TEST CASES ───────────────────────────────────────┐\u001b[0m\n",
            "\n",
            "'add router R1'                                                             [\u001b[32mPASS\u001b[0m] (Expected: Pass, Got: Pass)\n",
            "'configure terminal'                                                        [\u001b[32mPASS\u001b[0m] (Expected: Pass, Got: Pass)\n",
            "'set interface R1 Gig0/0 192.168.1.1 255.255.255.0'                         [\u001b[32mPASS\u001b[0m] (Expected: Pass, Got: Pass)\n",
            "'add firewall FW1'                                                          [\u001b[32mPASS\u001b[0m] (Expected: Fail, Got: Fail)\n",
            "'delete router R1'                                                          [\u001b[32mPASS\u001b[0m] (Expected: Fail, Got: Fail)\n",
            "'set bgp R1 65000'                                                          [\u001b[32mPASS\u001b[0m] (Expected: Fail, Got: Fail)\n",
            "\u001b[32mLEXICAL ANALYSIS TEST CASES Success Rate: 6/6 = 100.0%\u001b[0m\n",
            "\n",
            "\n",
            "\u001b[36m┌─ SYNTAX ANALYSIS TEST CASES ────────────────────────────────────────┐\u001b[0m\n",
            "\n",
            "('ADD_ROUTER', ['R1'])                                                      [\u001b[32mPASS\u001b[0m] (Expected: Pass, Got: Pass)\n",
            "('CONNECT', ['R1', 'SW1', 'Ethernet'])                                      [\u001b[32mPASS\u001b[0m] (Expected: Pass, Got: Pass)\n",
            "('SET_INTERFACE', ['R1', 'Gig0/0', '192.168.1.1', '255.255.255.0'])         [\u001b[32mPASS\u001b[0m] (Expected: Pass, Got: Pass)\n",
            "('ADD_ROUTER', [])                                                          [\u001b[32mPASS\u001b[0m] (Expected: Fail, Got: Fail)\n",
            "('CONNECT', ['R1', 'SW1'])                                                  [\u001b[32mPASS\u001b[0m] (Expected: Fail, Got: Fail)\n",
            "('SET_INTERFACE', ['R1', '192.168.1.1'])                                    [\u001b[32mPASS\u001b[0m] (Expected: Fail, Got: Fail)\n",
            "\u001b[32mSYNTAX ANALYSIS TEST CASES Success Rate: 6/6 = 100.0%\u001b[0m\n",
            "\n",
            "\n",
            "\u001b[36m┌─ SEMANTIC ANALYSIS TEST CASES ──────────────────────────────────────┐\u001b[0m\n",
            "\n",
            "('ADD_ROUTER', ['R2'])                                                      [\u001b[32mPASS\u001b[0m] (Expected: Pass, Got: Pass)\n",
            "('CONNECT', ['R1', 'SW1', 'Ethernet'])                                      [\u001b[32mPASS\u001b[0m] (Expected: Pass, Got: Pass)\n",
            "('SET_INTERFACE', ['R1', 'Gig0/0', '192.168.1.1', '255.255.255.0'])         [\u001b[32mPASS\u001b[0m] (Expected: Pass, Got: Pass)\n",
            "('ADD_ROUTER', ['R1'])                                                      [\u001b[32mPASS\u001b[0m] (Expected: Fail, Got: Fail)\n",
            "('CONNECT', ['R1', 'R3', 'Ethernet'])                                       [\u001b[32mPASS\u001b[0m] (Expected: Fail, Got: Fail)\n",
            "('SET_INTERFACE', ['R1', 'Gig0/0', '300.400.500.600', '255.255.255.0'])     [\u001b[32mPASS\u001b[0m] (Expected: Fail, Got: Fail)\n",
            "\u001b[32mSEMANTIC ANALYSIS TEST CASES Success Rate: 6/6 = 100.0%\u001b[0m\n",
            "\n",
            "\n",
            "\u001b[36m┌─ INTERPRETER TEST CASES ────────────────────────────────────────────┐\u001b[0m\n",
            "\n",
            "'ADD_ROUTER'                                                                [\u001b[32mPASS\u001b[0m] (Expected: Pass, Got: Pass)\n",
            "'CONNECT'                                                                   [\u001b[32mPASS\u001b[0m] (Expected: Pass, Got: Pass)\n",
            "'SET_INTERFACE'                                                             [\u001b[32mPASS\u001b[0m] (Expected: Pass, Got: Pass)\n",
            "'UNKNOWN_TOKEN'                                                             [\u001b[32mPASS\u001b[0m] (Expected: Fail, Got: Fail)\n",
            "'INVALID_COMMAND'                                                           [\u001b[32mPASS\u001b[0m] (Expected: Fail, Got: Fail)\n",
            "'RANDOM_TOKEN'                                                              [\u001b[32mPASS\u001b[0m] (Expected: Fail, Got: Fail)\n",
            "\u001b[32mINTERPRETER TEST CASES Success Rate: 6/6 = 100.0%\u001b[0m\n",
            "\n",
            "\u001b[32mOVERALL SUCCESS RATE 24/24 = 100.0%\u001b[0m\n"
          ]
        }
      ]
    },
    {
      "cell_type": "markdown",
      "source": [
        "This section briefly demonstrates static valid and invalid inputs to test the performance of the modular command-processing pipeline"
      ],
      "metadata": {
        "id": "B-TeylMTdvFu"
      }
    },
    {
      "cell_type": "markdown",
      "source": [
        "## **6.1 Topology Visualization**\n",
        "\n",
        "---\n",
        "\n"
      ],
      "metadata": {
        "id": "hoEJzg2VKvAf"
      }
    },
    {
      "cell_type": "markdown",
      "source": [
        "This section handles **visualizing the network topology** using `networkx` and `matplotlib`. Device icons are mapped in `ICON_MAP`, linking each device type (`router`, `switch`, `host`, `server`) to an image file.\n"
      ],
      "metadata": {
        "id": "mR8mLCDHdqzx"
      }
    },
    {
      "cell_type": "markdown",
      "source": [
        "\n",
        "\n",
        "---\n",
        "\n"
      ],
      "metadata": {
        "id": "OcLOpOzjdtlR"
      }
    },
    {
      "cell_type": "markdown",
      "source": [
        "Define function `_distribute_vertical(i, total, spacing=1.2)` to handle vertical positioning of added devices"
      ],
      "metadata": {
        "id": "XnOlfw_7eGAO"
      }
    },
    {
      "cell_type": "code",
      "source": [
        "# Calculate vertical position for devices\n",
        "def _distribute_vertical(i, total, spacing=1.2):\n",
        "    if total <= 1:\n",
        "        return 0\n",
        "    # Spread devices evenly around y=0\n",
        "    return ((total - 1) / 2 - i) * spacing"
      ],
      "metadata": {
        "id": "SpBtSorReDKn"
      },
      "execution_count": null,
      "outputs": []
    },
    {
      "cell_type": "markdown",
      "source": [
        "Assign the positions for plotting using `get_positions()` function"
      ],
      "metadata": {
        "id": "o6tYDCC0eify"
      }
    },
    {
      "cell_type": "code",
      "source": [
        "# Assign positions to devices for plotting\n",
        "def get_positions():\n",
        "    pos = {}\n",
        "\n",
        "    # Fixed x positions for each type\n",
        "    x_positions = {\n",
        "        \"host\": -6.5,\n",
        "        \"switch\": [-3.5, 3.5],  # left and right for multiple switches\n",
        "        \"router\": [-1.5, 1.5],  # left and right for multiple routers\n",
        "        \"server\": 6.5\n",
        "    }\n",
        "\n",
        "    # Group devices by type\n",
        "    devices_by_type = {\"host\": [], \"switch\": [], \"router\": [], \"server\": []}\n",
        "    for device, dtype in symbol_table[\"devices\"].items():\n",
        "        devices_by_type[dtype].append(device)\n",
        "\n",
        "    # Stack hosts and servers vertically\n",
        "    for dtype in [\"host\", \"server\"]:\n",
        "        x = x_positions[dtype]\n",
        "        devices = devices_by_type[dtype]\n",
        "        for i, device in enumerate(devices):\n",
        "            y = _distribute_vertical(i, len(devices), spacing=1.7)\n",
        "            pos[device] = (x, y)\n",
        "\n",
        "    # Place switches and routers horizontally\n",
        "    for dtype in [\"switch\", \"router\"]:\n",
        "        xs = x_positions[dtype]\n",
        "        devices = devices_by_type[dtype]\n",
        "        for i, device in enumerate(devices):\n",
        "            x = xs[0] if i == 0 else xs[1] + (i - 1) * 1.0\n",
        "            pos[device] = (x, 0)\n",
        "\n",
        "    return pos"
      ],
      "metadata": {
        "id": "41aLXnnLz9TQ"
      },
      "execution_count": null,
      "outputs": []
    },
    {
      "cell_type": "markdown",
      "source": [
        "Create the network under `visualize_topology()` function"
      ],
      "metadata": {
        "id": "mdFIqSi_etch"
      }
    },
    {
      "cell_type": "code",
      "source": [
        "# Draw the network\n",
        "def visualize_topology():\n",
        "    G = nx.Graph()\n",
        "    G.add_nodes_from(symbol_table[\"devices\"])    # Add devices as nodes\n",
        "\n",
        "    for d1, d2, _ in symbol_table[\"connections\"]:\n",
        "        G.add_edge(d1, d2)    # Add all connections as edges\n",
        "\n",
        "    pos = get_positions()     # Get positions for devices\n",
        "    fig, ax = plt.subplots(figsize=(16, 6))   # Create figure\n",
        "    nx.draw_networkx_edges(G, pos, ax=ax, width=2, edge_color='gray')   # Draw edges (connections)\n",
        "    edge_labels = {}     # Draw edge labels (cable types)\n",
        "\n",
        "    for d1, d2, cable in symbol_table[\"connections\"]:\n",
        "        edge_labels[(d1, d2)] = cable\n",
        "    nx.draw_networkx_edge_labels(G, pos, edge_labels=edge_labels, ax=ax, font_size=9)\n",
        "\n",
        "    # Draw nodes (icons or fallback circles) and labels\n",
        "    for device, (x, y) in pos.items():\n",
        "        dtype = symbol_table[\"devices\"][device]\n",
        "        icon = ICON_MAP.get(dtype)\n",
        "\n",
        "        if icon and os.path.exists(icon):\n",
        "            ab = AnnotationBbox(OffsetImage(mpimg.imread(icon), zoom=0.26), (x, y), frameon=False)\n",
        "            ax.add_artist(ab)\n",
        "        else:\n",
        "            ax.plot(x, y, 'o', markersize=18, alpha=0.6)\n",
        "\n",
        "        ax.text(x, y-0.6, device, ha='center', va='top', fontweight='bold', fontsize=10)\n",
        "\n",
        "    # Set limits and hide axes\n",
        "    ax.set_xlim(-7.5, 7.5)\n",
        "    ax.set_ylim(-3, 3)\n",
        "    ax.axis('off')\n",
        "\n",
        "    plt.tight_layout()\n",
        "    plt.show()"
      ],
      "metadata": {
        "id": "ofOZOLlyesqH"
      },
      "execution_count": null,
      "outputs": []
    },
    {
      "cell_type": "markdown",
      "source": [
        "## **6.2 Topology Configuration**\n",
        "\n",
        "---\n",
        "\n"
      ],
      "metadata": {
        "id": "Zyc7ueVuN-I1"
      }
    },
    {
      "cell_type": "markdown",
      "source": [
        "This section implements **staged network setup** with sequential checks. The `stage_completed` list ensures stages run in order."
      ],
      "metadata": {
        "id": "rglKQ-DnfA6x"
      }
    },
    {
      "cell_type": "markdown",
      "source": [
        "\n",
        "\n",
        "---\n",
        "\n"
      ],
      "metadata": {
        "id": "iQh83OeCfEDQ"
      }
    },
    {
      "cell_type": "markdown",
      "source": [
        "Create the list `stage_completed` for validating that a topology setup stage is sequentially correct under boolean values"
      ],
      "metadata": {
        "id": "Ardrry0wfLdU"
      }
    },
    {
      "cell_type": "code",
      "source": [
        "# Track configuration stages to enforce order\n",
        "stage_completed = [False, False, False, False]"
      ],
      "metadata": {
        "id": "_6DwI16JfMSq"
      },
      "execution_count": null,
      "outputs": []
    },
    {
      "cell_type": "markdown",
      "source": [
        "Pre-configure the setup for the topology in `STAGES` variable that contains a list of tuples `(stage_name, commands)`"
      ],
      "metadata": {
        "id": "kvyJ7d10gBwi"
      }
    },
    {
      "cell_type": "code",
      "source": [
        "# Stage configurations: list of tuples (stage_name, commands)\n",
        "STAGES = [\n",
        "    (\"Routers\", [\n",
        "        \"add router Router1\",\n",
        "        \"add router Router2\",\n",
        "        \"connect Router1 Router2 WAN\"\n",
        "    ]),\n",
        "    (\"Switches\", [\n",
        "        \"add switch Switch1\",\n",
        "        \"add switch Switch2\",\n",
        "        \"connect Switch1 Router1 straight\",\n",
        "        \"connect Switch2 Router2 straight\"\n",
        "    ]),\n",
        "    (\"Hosts\", [\n",
        "        \"add host HostA\",\n",
        "        \"add host HostB\",\n",
        "        \"connect HostA Switch1 straight\",\n",
        "        \"connect HostB Switch1 straight\"\n",
        "    ]),\n",
        "    (\"Servers\", [\n",
        "        \"add server ServerA\",\n",
        "        \"add server ServerB\",\n",
        "        \"connect ServerA Switch2 straight\",\n",
        "        \"connect ServerB Switch2 straight\"\n",
        "    ])\n",
        "]"
      ],
      "metadata": {
        "id": "OR_vCTts6JIK"
      },
      "execution_count": null,
      "outputs": []
    },
    {
      "cell_type": "markdown",
      "source": [
        "Track progress and error with `run_stage(stage_index)` function"
      ],
      "metadata": {
        "id": "2Irne26xfr8V"
      }
    },
    {
      "cell_type": "code",
      "source": [
        "def run_stage(stage_index):\n",
        "    if stage_index > 0 and not stage_completed[stage_index - 1]:\n",
        "        print(f\"Stage {stage_index} must be completed first!\")\n",
        "        return\n",
        "\n",
        "    stage_name, commands = STAGES[stage_index]\n",
        "\n",
        "    for cmd in commands:\n",
        "        handle_command(cmd)\n",
        "\n",
        "    visualize_topology()\n",
        "    stage_completed[stage_index] = True"
      ],
      "metadata": {
        "id": "5HudnBL_fsPt"
      },
      "execution_count": null,
      "outputs": []
    },
    {
      "cell_type": "markdown",
      "source": [
        "## **6.3 Interactive Stage Buttons**\n",
        "\n",
        "---"
      ],
      "metadata": {
        "id": "M_SHzziCPGhx"
      }
    },
    {
      "cell_type": "markdown",
      "source": [
        "This section implements **interactive buttons** using `ipywidgets` to run network setup configuration stages sequentially. Each button corresponds to a configuration stage and prevents skipping.\n"
      ],
      "metadata": {
        "id": "u8YD1U_qgYH2"
      }
    },
    {
      "cell_type": "markdown",
      "source": [
        "\n",
        "\n",
        "---\n",
        "\n"
      ],
      "metadata": {
        "id": "Fn4byyySgYzT"
      }
    },
    {
      "cell_type": "markdown",
      "source": [
        "`ICON_MAP` for assigning cisco packet tracer device icons for visualization"
      ],
      "metadata": {
        "id": "TES12HnogZdg"
      }
    },
    {
      "cell_type": "code",
      "source": [
        "ICON_MAP = {\n",
        "    \"router\": \"router.png\",\n",
        "    \"switch\": \"workgroup-switch.png\",\n",
        "    \"host\": \"workstation.png\",\n",
        "    \"server\": \"file-server.png\"\n",
        "}"
      ],
      "metadata": {
        "id": "-O-8T_GDgmuL"
      },
      "execution_count": null,
      "outputs": []
    },
    {
      "cell_type": "markdown",
      "source": [
        "Throw an error message when `ICON_MAP` fails to detect the .png file"
      ],
      "metadata": {
        "id": "VvdLH_GFgpp3"
      }
    },
    {
      "cell_type": "code",
      "source": [
        "for icon in ICON_MAP.values():\n",
        "    if not os.path.exists(icon):\n",
        "        print(f\"Warning: {icon} does not exist!\")"
      ],
      "metadata": {
        "id": "h5nK2_ijg0sX"
      },
      "execution_count": null,
      "outputs": []
    },
    {
      "cell_type": "markdown",
      "source": [
        "Create the stage buttons with `ipywidgets`"
      ],
      "metadata": {
        "id": "LX7CaaSNg5Pp"
      }
    },
    {
      "cell_type": "code",
      "source": [
        "stage_images = {\n",
        "    k: widgets.Box(\n",
        "        [widgets.Image(value=open(v, \"rb\").read(), format='png', width=65, height=60)],\n",
        "        layout=widgets.Layout(margin='0 10px 0 0')  # top right bottom left\n",
        "    )\n",
        "    for k, v in ICON_MAP.items()\n",
        "}\n",
        "\n",
        "def create_stage_button(stage_index, label, image_key, style):\n",
        "    btn = widgets.Button(\n",
        "        description=label,\n",
        "        button_style=style,\n",
        "        layout=widgets.Layout(width='220px', height='60px')\n",
        "    )\n",
        "\n",
        "    out = widgets.Output()  # Dedicated output for button\n",
        "\n",
        "    def on_click(b):\n",
        "        if stage_index > 0 and not stage_completed[stage_index - 1]:\n",
        "            original_style = btn.button_style\n",
        "            btn.button_style = 'danger'\n",
        "            with out:\n",
        "                logger.warning(\n",
        "                f\"User attempted to run Stage {stage_index + 1} ({label}) \"\n",
        "                f\"before completing Stage {stage_index} ({STAGES[stage_index - 1][0]}).\"\n",
        "            )\n",
        "            time.sleep(5)  # flash duration\n",
        "            btn.button_style = original_style\n",
        "            out.clear_output()  # remove the temporary message\n",
        "            return\n",
        "\n",
        "        logger.info(f\"Stage {stage_index + 1} ({label}) initiated by user.\")\n",
        "        run_stage(stage_index)\n",
        "        btn.button_style = 'success' if stage_completed[stage_index] else style\n",
        "        btn.disabled = True\n",
        "\n",
        "    btn.on_click(on_click)\n",
        "    display(widgets.VBox([widgets.HBox([stage_images[image_key], btn]), out]))"
      ],
      "metadata": {
        "id": "1Voj2tzjgI_D"
      },
      "execution_count": null,
      "outputs": []
    },
    {
      "cell_type": "code",
      "source": [
        "create_stage_button(0, \"Add Routers\", \"router\", \"info\")"
      ],
      "metadata": {
        "colab": {
          "base_uri": "https://localhost:8080/",
          "height": 978,
          "referenced_widgets": [
            "48cba7bb018141df8ec35285894d6cdb",
            "97aa35cdac494ffa84052c4a0a1fdb4c",
            "4925fbd1261c48a48fb9e055fc8e6464",
            "51913e97ac9343d8a387c96fe6bfba7d",
            "406bf40b3db64903a3271af90889fc8a",
            "2ced1b06052e4c77ac7299c66da69b59",
            "0b2e981fb98b4910af4c2ce0c1499a5e",
            "c3e72326bfe74b5d8e74f47188da4f85",
            "aec2ba14614a4a25b1446b9f3b45ac98",
            "f119d23c59a4473696ce63db7e9c9d93",
            "71aa6797a19f4bbcb40c18b91ca775f3",
            "cf8fcfcf54d74d0da120610f622cad3a",
            "ac6f50395e534cdfa1af0e70a31a8b4c"
          ]
        },
        "id": "Ncoo3Mfe75LO",
        "outputId": "e1341c08-99c6-4473-90b4-3959e9a1191c"
      },
      "execution_count": null,
      "outputs": [
        {
          "output_type": "display_data",
          "data": {
            "text/plain": [
              "VBox(children=(HBox(children=(Box(children=(Image(value=b'\\x89PNG\\r\\n\\x1a\\n\\x00\\x00\\x00\\rIHDR\\x00\\x00\\x01,\\x00…"
            ],
            "application/vnd.jupyter.widget-view+json": {
              "version_major": 2,
              "version_minor": 0,
              "model_id": "48cba7bb018141df8ec35285894d6cdb"
            }
          },
          "metadata": {}
        },
        {
          "output_type": "stream",
          "name": "stderr",
          "text": [
            "\u001b[32m2025-10-28 04:05:56 [INFO] Stage 1 (Add Routers) initiated by user.\u001b[0m\n",
            "\u001b[32m2025-10-28 04:05:56 [INFO] [INTERPRETER] Processing command: add router Router1\u001b[0m\n",
            "\u001b[36m2025-10-28 04:05:56 [DEBUG] [LEXICAL] Matched token: ADD_ROUTER, args: ('Router1',)\u001b[0m\n",
            "\u001b[36m2025-10-28 04:05:56 [DEBUG] [SYNTAX] 'ADD_ROUTER' arguments OK, args=('Router1',)\u001b[0m\n",
            "\u001b[36m2025-10-28 04:05:56 [DEBUG] [SEMANTIC] 'ADD_ROUTER' validation OK, args=('Router1',)\u001b[0m\n",
            "\u001b[36m2025-10-28 04:05:56 [DEBUG] [INTERPRETER] Handler found for token 'ADD_ROUTER'\u001b[0m\n",
            "\u001b[32m2025-10-28 04:05:56 [INFO] [EXECUTOR] Added device: name='ROUTER1', type='router'\u001b[0m\n",
            "\u001b[32m2025-10-28 04:05:56 [INFO] [SUCCESS] Command interpreted: 'add router Router1'\u001b[0m\n",
            "\u001b[32m2025-10-28 04:05:56 [INFO] [INTERPRETER] Processing command: add router Router2\u001b[0m\n",
            "\u001b[36m2025-10-28 04:05:56 [DEBUG] [LEXICAL] Matched token: ADD_ROUTER, args: ('Router2',)\u001b[0m\n",
            "\u001b[36m2025-10-28 04:05:56 [DEBUG] [SYNTAX] 'ADD_ROUTER' arguments OK, args=('Router2',)\u001b[0m\n",
            "\u001b[36m2025-10-28 04:05:56 [DEBUG] [SEMANTIC] 'ADD_ROUTER' validation OK, args=('Router2',)\u001b[0m\n",
            "\u001b[36m2025-10-28 04:05:56 [DEBUG] [INTERPRETER] Handler found for token 'ADD_ROUTER'\u001b[0m\n",
            "\u001b[32m2025-10-28 04:05:56 [INFO] [EXECUTOR] Added device: name='ROUTER2', type='router'\u001b[0m\n",
            "\u001b[32m2025-10-28 04:05:56 [INFO] [SUCCESS] Command interpreted: 'add router Router2'\u001b[0m\n",
            "\u001b[32m2025-10-28 04:05:56 [INFO] [INTERPRETER] Processing command: connect Router1 Router2 WAN\u001b[0m\n",
            "\u001b[36m2025-10-28 04:05:56 [DEBUG] [LEXICAL] Matched token: CONNECT, args: ('Router1', 'Router2', 'WAN')\u001b[0m\n",
            "\u001b[36m2025-10-28 04:05:56 [DEBUG] [SYNTAX] 'CONNECT' arguments OK, args=('Router1', 'Router2', 'WAN')\u001b[0m\n",
            "\u001b[36m2025-10-28 04:05:56 [DEBUG] [SEMANTIC] 'CONNECT' validation OK, args=('Router1', 'Router2', 'WAN')\u001b[0m\n",
            "\u001b[36m2025-10-28 04:05:56 [DEBUG] [INTERPRETER] Handler found for token 'CONNECT'\u001b[0m\n",
            "\u001b[32m2025-10-28 04:05:56 [INFO] [EXECUTOR] Connected devices: ROUTER1 <-> ROUTER2 via WAN\u001b[0m\n",
            "\u001b[32m2025-10-28 04:05:56 [INFO] [SUCCESS] Command interpreted: 'connect Router1 Router2 WAN'\u001b[0m\n"
          ]
        },
        {
          "output_type": "display_data",
          "data": {
            "text/plain": [
              "<Figure size 1600x600 with 1 Axes>"
            ],
            "image/png": "[encoded data removed]"
          },
          "metadata": {}
        }
      ]
    },
    {
      "cell_type": "code",
      "source": [
        "create_stage_button(1, \"Stage 2: Add Switches\", \"switch\", \"primary\")"
      ],
      "metadata": {
        "id": "LTTKS8NdbGnC",
        "colab": {
          "base_uri": "https://localhost:8080/",
          "height": 1000,
          "referenced_widgets": [
            "e1eed25689e348e8aa3ea4d7b639b596",
            "e04d02000fc443eea38d90900b5f2965",
            "4a22eb17cafe4a49a4eb5d6a26b5f67b",
            "5cdfe01e022f4651af5c0e9cc6ce95f9",
            "0f5c5a2cf2ee4735baf5cb373b228a93",
            "c8877f5edadb4505a7aade12cdbf79c3",
            "8a493f1f9728444b9b0bc08eae35a9bc",
            "ac1feee3a0de43c9a0ebe4d11356027b",
            "a15c798bc72548fa8b1597a1de2f1490",
            "f12cf5d25335429aa4f7a98922530414",
            "42e69e10ff4540c08123189508784cb0",
            "6c13b93998024b5096d5f224f427c33b",
            "9a1f9d4af0d04375aa33819c0944512a"
          ]
        },
        "outputId": "a0af12e0-8f6f-4619-9beb-e6450a22d7dd"
      },
      "execution_count": null,
      "outputs": [
        {
          "output_type": "display_data",
          "data": {
            "text/plain": [
              "VBox(children=(HBox(children=(Box(children=(Image(value=b'\\x89PNG\\r\\n\\x1a\\n\\x00\\x00\\x00\\rIHDR\\x00\\x00\\x01,\\x00…"
            ],
            "application/vnd.jupyter.widget-view+json": {
              "version_major": 2,
              "version_minor": 0,
              "model_id": "e1eed25689e348e8aa3ea4d7b639b596"
            }
          },
          "metadata": {}
        },
        {
          "output_type": "stream",
          "name": "stderr",
          "text": [
            "\u001b[32m2025-10-28 04:06:18 [INFO] Stage 2 (Stage 2: Add Switches) initiated by user.\u001b[0m\n",
            "\u001b[32m2025-10-28 04:06:18 [INFO] [INTERPRETER] Processing command: add switch Switch1\u001b[0m\n",
            "\u001b[36m2025-10-28 04:06:18 [DEBUG] [LEXICAL] Matched token: ADD_SWITCH, args: ('Switch1',)\u001b[0m\n",
            "\u001b[36m2025-10-28 04:06:18 [DEBUG] [SYNTAX] 'ADD_SWITCH' arguments OK, args=('Switch1',)\u001b[0m\n",
            "\u001b[36m2025-10-28 04:06:18 [DEBUG] [SEMANTIC] 'ADD_SWITCH' validation OK, args=('Switch1',)\u001b[0m\n",
            "\u001b[36m2025-10-28 04:06:18 [DEBUG] [INTERPRETER] Handler found for token 'ADD_SWITCH'\u001b[0m\n",
            "\u001b[32m2025-10-28 04:06:18 [INFO] [EXECUTOR] Added device: name='SWITCH1', type='switch'\u001b[0m\n",
            "\u001b[32m2025-10-28 04:06:18 [INFO] [SUCCESS] Command interpreted: 'add switch Switch1'\u001b[0m\n",
            "\u001b[32m2025-10-28 04:06:18 [INFO] [INTERPRETER] Processing command: add switch Switch2\u001b[0m\n",
            "\u001b[36m2025-10-28 04:06:18 [DEBUG] [LEXICAL] Matched token: ADD_SWITCH, args: ('Switch2',)\u001b[0m\n",
            "\u001b[36m2025-10-28 04:06:18 [DEBUG] [SYNTAX] 'ADD_SWITCH' arguments OK, args=('Switch2',)\u001b[0m\n",
            "\u001b[36m2025-10-28 04:06:18 [DEBUG] [SEMANTIC] 'ADD_SWITCH' validation OK, args=('Switch2',)\u001b[0m\n",
            "\u001b[36m2025-10-28 04:06:18 [DEBUG] [INTERPRETER] Handler found for token 'ADD_SWITCH'\u001b[0m\n",
            "\u001b[32m2025-10-28 04:06:18 [INFO] [EXECUTOR] Added device: name='SWITCH2', type='switch'\u001b[0m\n",
            "\u001b[32m2025-10-28 04:06:18 [INFO] [SUCCESS] Command interpreted: 'add switch Switch2'\u001b[0m\n",
            "\u001b[32m2025-10-28 04:06:18 [INFO] [INTERPRETER] Processing command: connect Switch1 Router1 straight\u001b[0m\n",
            "\u001b[36m2025-10-28 04:06:18 [DEBUG] [LEXICAL] Matched token: CONNECT, args: ('Switch1', 'Router1', 'straight')\u001b[0m\n",
            "\u001b[36m2025-10-28 04:06:18 [DEBUG] [SYNTAX] 'CONNECT' arguments OK, args=('Switch1', 'Router1', 'straight')\u001b[0m\n",
            "\u001b[36m2025-10-28 04:06:18 [DEBUG] [SEMANTIC] 'CONNECT' validation OK, args=('Switch1', 'Router1', 'straight')\u001b[0m\n",
            "\u001b[36m2025-10-28 04:06:18 [DEBUG] [INTERPRETER] Handler found for token 'CONNECT'\u001b[0m\n",
            "\u001b[32m2025-10-28 04:06:18 [INFO] [EXECUTOR] Connected devices: SWITCH1 <-> ROUTER1 via straight\u001b[0m\n",
            "\u001b[32m2025-10-28 04:06:18 [INFO] [SUCCESS] Command interpreted: 'connect Switch1 Router1 straight'\u001b[0m\n",
            "\u001b[32m2025-10-28 04:06:18 [INFO] [INTERPRETER] Processing command: connect Switch2 Router2 straight\u001b[0m\n",
            "\u001b[36m2025-10-28 04:06:18 [DEBUG] [LEXICAL] Matched token: CONNECT, args: ('Switch2', 'Router2', 'straight')\u001b[0m\n",
            "\u001b[36m2025-10-28 04:06:18 [DEBUG] [SYNTAX] 'CONNECT' arguments OK, args=('Switch2', 'Router2', 'straight')\u001b[0m\n",
            "\u001b[36m2025-10-28 04:06:18 [DEBUG] [SEMANTIC] 'CONNECT' validation OK, args=('Switch2', 'Router2', 'straight')\u001b[0m\n",
            "\u001b[36m2025-10-28 04:06:18 [DEBUG] [INTERPRETER] Handler found for token 'CONNECT'\u001b[0m\n",
            "\u001b[32m2025-10-28 04:06:18 [INFO] [EXECUTOR] Connected devices: SWITCH2 <-> ROUTER2 via straight\u001b[0m\n",
            "\u001b[32m2025-10-28 04:06:18 [INFO] [SUCCESS] Command interpreted: 'connect Switch2 Router2 straight'\u001b[0m\n"
          ]
        },
        {
          "output_type": "display_data",
          "data": {
            "text/plain": [
              "<Figure size 1600x600 with 1 Axes>"
            ],
            "image/png": "[encoded data removed]"
          },
          "metadata": {}
        }
      ]
    },
    {
      "cell_type": "code",
      "source": [
        "create_stage_button(2, \"Stage 3: Add Hosts\", \"host\", \"success\")"
      ],
      "metadata": {
        "id": "_d4ZLDZo77H7",
        "colab": {
          "base_uri": "https://localhost:8080/",
          "height": 1000,
          "referenced_widgets": [
            "fee4ea059b0f4f17a1ebc2fde02a0978",
            "fe1f0d7d3fa84cd685ac228bf288e99d",
            "1e0370a6d3ef47fbbe62480adf55fba8",
            "97696f62b85b42fe8024f716fff4ec1c",
            "f2c18f4e937546e68fb73e38e8b334e2",
            "f8d550aac0e545d2b5ab64cf4cbfb8a4",
            "a902d5fddc9b443db26a732513b5488f",
            "2ea1e2f38eab45bc8e804cb5c863c395",
            "bb9eee020e7e4d97a7dfe9c1af2ca8c4",
            "b4e81943be3e493396a661012adaa300",
            "cfbd8207fc574c60a71fd17444342061",
            "530e9231e5274b708a310f3721867439",
            "005dfb4498c74addb53768997b1d1d81"
          ]
        },
        "outputId": "a06e9222-e42d-4c8c-9d05-ce76c6d9f54c"
      },
      "execution_count": null,
      "outputs": [
        {
          "output_type": "display_data",
          "data": {
            "text/plain": [
              "VBox(children=(HBox(children=(Box(children=(Image(value=b'\\x89PNG\\r\\n\\x1a\\n\\x00\\x00\\x00\\rIHDR\\x00\\x00\\x01,\\x00…"
            ],
            "application/vnd.jupyter.widget-view+json": {
              "version_major": 2,
              "version_minor": 0,
              "model_id": "fee4ea059b0f4f17a1ebc2fde02a0978"
            }
          },
          "metadata": {}
        },
        {
          "output_type": "stream",
          "name": "stderr",
          "text": [
            "\u001b[32m2025-10-28 04:06:23 [INFO] Stage 3 (Stage 3: Add Hosts) initiated by user.\u001b[0m\n",
            "\u001b[32m2025-10-28 04:06:23 [INFO] [INTERPRETER] Processing command: add host HostA\u001b[0m\n",
            "\u001b[36m2025-10-28 04:06:23 [DEBUG] [LEXICAL] Matched token: ADD_HOST, args: ('HostA',)\u001b[0m\n",
            "\u001b[36m2025-10-28 04:06:23 [DEBUG] [SYNTAX] 'ADD_HOST' arguments OK, args=('HostA',)\u001b[0m\n",
            "\u001b[36m2025-10-28 04:06:23 [DEBUG] [SEMANTIC] 'ADD_HOST' validation OK, args=('HostA',)\u001b[0m\n",
            "\u001b[36m2025-10-28 04:06:23 [DEBUG] [INTERPRETER] Handler found for token 'ADD_HOST'\u001b[0m\n",
            "\u001b[32m2025-10-28 04:06:23 [INFO] [EXECUTOR] Added device: name='HOSTA', type='host'\u001b[0m\n",
            "\u001b[32m2025-10-28 04:06:23 [INFO] [SUCCESS] Command interpreted: 'add host HostA'\u001b[0m\n",
            "\u001b[32m2025-10-28 04:06:23 [INFO] [INTERPRETER] Processing command: add host HostB\u001b[0m\n",
            "\u001b[36m2025-10-28 04:06:23 [DEBUG] [LEXICAL] Matched token: ADD_HOST, args: ('HostB',)\u001b[0m\n",
            "\u001b[36m2025-10-28 04:06:23 [DEBUG] [SYNTAX] 'ADD_HOST' arguments OK, args=('HostB',)\u001b[0m\n",
            "\u001b[36m2025-10-28 04:06:23 [DEBUG] [SEMANTIC] 'ADD_HOST' validation OK, args=('HostB',)\u001b[0m\n",
            "\u001b[36m2025-10-28 04:06:23 [DEBUG] [INTERPRETER] Handler found for token 'ADD_HOST'\u001b[0m\n",
            "\u001b[32m2025-10-28 04:06:23 [INFO] [EXECUTOR] Added device: name='HOSTB', type='host'\u001b[0m\n",
            "\u001b[32m2025-10-28 04:06:23 [INFO] [SUCCESS] Command interpreted: 'add host HostB'\u001b[0m\n",
            "\u001b[32m2025-10-28 04:06:23 [INFO] [INTERPRETER] Processing command: connect HostA Switch1 straight\u001b[0m\n",
            "\u001b[36m2025-10-28 04:06:23 [DEBUG] [LEXICAL] Matched token: CONNECT, args: ('HostA', 'Switch1', 'straight')\u001b[0m\n",
            "\u001b[36m2025-10-28 04:06:23 [DEBUG] [SYNTAX] 'CONNECT' arguments OK, args=('HostA', 'Switch1', 'straight')\u001b[0m\n",
            "\u001b[36m2025-10-28 04:06:23 [DEBUG] [SEMANTIC] 'CONNECT' validation OK, args=('HostA', 'Switch1', 'straight')\u001b[0m\n",
            "\u001b[36m2025-10-28 04:06:23 [DEBUG] [INTERPRETER] Handler found for token 'CONNECT'\u001b[0m\n",
            "\u001b[32m2025-10-28 04:06:23 [INFO] [EXECUTOR] Connected devices: HOSTA <-> SWITCH1 via straight\u001b[0m\n",
            "\u001b[32m2025-10-28 04:06:23 [INFO] [SUCCESS] Command interpreted: 'connect HostA Switch1 straight'\u001b[0m\n",
            "\u001b[32m2025-10-28 04:06:23 [INFO] [INTERPRETER] Processing command: connect HostB Switch1 straight\u001b[0m\n",
            "\u001b[36m2025-10-28 04:06:23 [DEBUG] [LEXICAL] Matched token: CONNECT, args: ('HostB', 'Switch1', 'straight')\u001b[0m\n",
            "\u001b[36m2025-10-28 04:06:23 [DEBUG] [SYNTAX] 'CONNECT' arguments OK, args=('HostB', 'Switch1', 'straight')\u001b[0m\n",
            "\u001b[36m2025-10-28 04:06:23 [DEBUG] [SEMANTIC] 'CONNECT' validation OK, args=('HostB', 'Switch1', 'straight')\u001b[0m\n",
            "\u001b[36m2025-10-28 04:06:23 [DEBUG] [INTERPRETER] Handler found for token 'CONNECT'\u001b[0m\n",
            "\u001b[32m2025-10-28 04:06:23 [INFO] [EXECUTOR] Connected devices: HOSTB <-> SWITCH1 via straight\u001b[0m\n",
            "\u001b[32m2025-10-28 04:06:23 [INFO] [SUCCESS] Command interpreted: 'connect HostB Switch1 straight'\u001b[0m\n"
          ]
        },
        {
          "output_type": "display_data",
          "data": {
            "text/plain": [
              "<Figure size 1600x600 with 1 Axes>"
            ],
            "image/png": "[encoded data removed]"
          },
          "metadata": {}
        }
      ]
    },
    {
      "cell_type": "code",
      "source": [
        "create_stage_button(3, \"Stage 4: Add Servers\", \"server\", \"warning\")"
      ],
      "metadata": {
        "id": "5l_FCS2379Qi",
        "colab": {
          "base_uri": "https://localhost:8080/",
          "height": 1000,
          "referenced_widgets": [
            "9a7b7d8f65644e04a5ace52ec48a2f06",
            "cddf805d55d747a7b8330e06d192fb81",
            "64d69efb8f094fb48709be1626db1792",
            "247ee31bfedd415d8eb066eb531147f6",
            "256f63ac2708496bb7e8861c09e0b711",
            "3ccdb2ee0d554d9e9da11023d8442c58",
            "86783c223c7e4f208bd1a75a3a34f461",
            "5ce4eb0d9d9c4740ae3677b83016b020",
            "3d91e0258afb4740bee7773576f1b862",
            "388dadeeb21d4c84980c902f287e78fe",
            "252a771ead8d4b0bb7ba2170e33193ce",
            "d46514f5060945b48e03751e8e398695",
            "b467b83ed94240ef827a0f370f35790e"
          ]
        },
        "outputId": "d9392853-1ba3-4978-9c38-8aaa76ce9eeb"
      },
      "execution_count": null,
      "outputs": [
        {
          "output_type": "display_data",
          "data": {
            "text/plain": [
              "VBox(children=(HBox(children=(Box(children=(Image(value=b'\\x89PNG\\r\\n\\x1a\\n\\x00\\x00\\x00\\rIHDR\\x00\\x00\\x01,\\x00…"
            ],
            "application/vnd.jupyter.widget-view+json": {
              "version_major": 2,
              "version_minor": 0,
              "model_id": "9a7b7d8f65644e04a5ace52ec48a2f06"
            }
          },
          "metadata": {}
        },
        {
          "output_type": "stream",
          "name": "stderr",
          "text": [
            "\u001b[32m2025-10-28 04:06:28 [INFO] Stage 4 (Stage 4: Add Servers) initiated by user.\u001b[0m\n",
            "\u001b[32m2025-10-28 04:06:28 [INFO] [INTERPRETER] Processing command: add server ServerA\u001b[0m\n",
            "\u001b[36m2025-10-28 04:06:28 [DEBUG] [LEXICAL] Matched token: ADD_SERVER, args: ('ServerA',)\u001b[0m\n",
            "\u001b[36m2025-10-28 04:06:28 [DEBUG] [SYNTAX] 'ADD_SERVER' arguments OK, args=('ServerA',)\u001b[0m\n",
            "\u001b[36m2025-10-28 04:06:28 [DEBUG] [SEMANTIC] 'ADD_SERVER' validation OK, args=('ServerA',)\u001b[0m\n",
            "\u001b[36m2025-10-28 04:06:28 [DEBUG] [INTERPRETER] Handler found for token 'ADD_SERVER'\u001b[0m\n",
            "\u001b[32m2025-10-28 04:06:28 [INFO] [EXECUTOR] Added device: name='SERVERA', type='server'\u001b[0m\n",
            "\u001b[32m2025-10-28 04:06:28 [INFO] [SUCCESS] Command interpreted: 'add server ServerA'\u001b[0m\n",
            "\u001b[32m2025-10-28 04:06:28 [INFO] [INTERPRETER] Processing command: add server ServerB\u001b[0m\n",
            "\u001b[36m2025-10-28 04:06:28 [DEBUG] [LEXICAL] Matched token: ADD_SERVER, args: ('ServerB',)\u001b[0m\n",
            "\u001b[36m2025-10-28 04:06:28 [DEBUG] [SYNTAX] 'ADD_SERVER' arguments OK, args=('ServerB',)\u001b[0m\n",
            "\u001b[36m2025-10-28 04:06:28 [DEBUG] [SEMANTIC] 'ADD_SERVER' validation OK, args=('ServerB',)\u001b[0m\n",
            "\u001b[36m2025-10-28 04:06:28 [DEBUG] [INTERPRETER] Handler found for token 'ADD_SERVER'\u001b[0m\n",
            "\u001b[32m2025-10-28 04:06:28 [INFO] [EXECUTOR] Added device: name='SERVERB', type='server'\u001b[0m\n",
            "\u001b[32m2025-10-28 04:06:28 [INFO] [SUCCESS] Command interpreted: 'add server ServerB'\u001b[0m\n",
            "\u001b[32m2025-10-28 04:06:28 [INFO] [INTERPRETER] Processing command: connect ServerA Switch2 straight\u001b[0m\n",
            "\u001b[36m2025-10-28 04:06:28 [DEBUG] [LEXICAL] Matched token: CONNECT, args: ('ServerA', 'Switch2', 'straight')\u001b[0m\n",
            "\u001b[36m2025-10-28 04:06:28 [DEBUG] [SYNTAX] 'CONNECT' arguments OK, args=('ServerA', 'Switch2', 'straight')\u001b[0m\n",
            "\u001b[36m2025-10-28 04:06:28 [DEBUG] [SEMANTIC] 'CONNECT' validation OK, args=('ServerA', 'Switch2', 'straight')\u001b[0m\n",
            "\u001b[36m2025-10-28 04:06:28 [DEBUG] [INTERPRETER] Handler found for token 'CONNECT'\u001b[0m\n",
            "\u001b[32m2025-10-28 04:06:28 [INFO] [EXECUTOR] Connected devices: SERVERA <-> SWITCH2 via straight\u001b[0m\n",
            "\u001b[32m2025-10-28 04:06:28 [INFO] [SUCCESS] Command interpreted: 'connect ServerA Switch2 straight'\u001b[0m\n",
            "\u001b[32m2025-10-28 04:06:28 [INFO] [INTERPRETER] Processing command: connect ServerB Switch2 straight\u001b[0m\n",
            "\u001b[36m2025-10-28 04:06:28 [DEBUG] [LEXICAL] Matched token: CONNECT, args: ('ServerB', 'Switch2', 'straight')\u001b[0m\n",
            "\u001b[36m2025-10-28 04:06:28 [DEBUG] [SYNTAX] 'CONNECT' arguments OK, args=('ServerB', 'Switch2', 'straight')\u001b[0m\n",
            "\u001b[36m2025-10-28 04:06:28 [DEBUG] [SEMANTIC] 'CONNECT' validation OK, args=('ServerB', 'Switch2', 'straight')\u001b[0m\n",
            "\u001b[36m2025-10-28 04:06:28 [DEBUG] [INTERPRETER] Handler found for token 'CONNECT'\u001b[0m\n",
            "\u001b[32m2025-10-28 04:06:28 [INFO] [EXECUTOR] Connected devices: SERVERB <-> SWITCH2 via straight\u001b[0m\n",
            "\u001b[32m2025-10-28 04:06:28 [INFO] [SUCCESS] Command interpreted: 'connect ServerB Switch2 straight'\u001b[0m\n"
          ]
        },
        {
          "output_type": "display_data",
          "data": {
            "text/plain": [
              "<Figure size 1600x600 with 1 Axes>"
            ],
            "image/png": "[encoded data removed]"
          },
          "metadata": {}
        }
      ]
    },
    {
      "cell_type": "markdown",
      "source": [
        "### **6.3.1 Final Topology Setup Check**\n",
        "\n",
        "---"
      ],
      "metadata": {
        "id": "Hj7MWfr-W3jZ"
      }
    },
    {
      "cell_type": "markdown",
      "source": [
        "Trigger the 'FINISH' command to check the current network topology.\n",
        "This validates the setup, reports any missing devices or connections,\n",
        "and displays the network if the setup is complete."
      ],
      "metadata": {
        "id": "JK2zEFvIhT-M"
      }
    },
    {
      "cell_type": "markdown",
      "source": [
        "\n",
        "\n",
        "---\n",
        "\n"
      ],
      "metadata": {
        "id": "t__HWAcOhUuV"
      }
    },
    {
      "cell_type": "code",
      "source": [
        "# Trigger the 'finish' command to verify the setup\n",
        "handle_command(\"finish\")"
      ],
      "metadata": {
        "id": "Rn4gMOH82fkT",
        "colab": {
          "base_uri": "https://localhost:8080/",
          "height": 655
        },
        "outputId": "c46078b2-39a7-4254-bc10-97ca54edbd2d"
      },
      "execution_count": null,
      "outputs": [
        {
          "output_type": "stream",
          "name": "stderr",
          "text": [
            "\u001b[32m2025-10-28 04:06:32 [INFO] [INTERPRETER] Processing command: finish\u001b[0m\n",
            "\u001b[36m2025-10-28 04:06:32 [DEBUG] [LEXICAL] Matched token: FINISH, args: ()\u001b[0m\n",
            "\u001b[36m2025-10-28 04:06:32 [DEBUG] [SYNTAX] 'FINISH' arguments OK, args=()\u001b[0m\n",
            "\u001b[36m2025-10-28 04:06:32 [DEBUG] [SEMANTIC] 'FINISH' validation OK, args=()\u001b[0m\n",
            "\u001b[36m2025-10-28 04:06:32 [DEBUG] [INTERPRETER] Handler found for token 'FINISH'\u001b[0m\n",
            "\u001b[32m2025-10-28 04:06:32 [INFO] [TOPOLOGY] Checking setup summary...\u001b[0m\n",
            "\u001b[32m2025-10-28 04:06:32 [INFO] [SUCCESS] Network setup complete.\u001b[0m\n"
          ]
        },
        {
          "output_type": "display_data",
          "data": {
            "text/plain": [
              "<Figure size 1600x600 with 1 Axes>"
            ],
            "image/png": "[encoded data removed]"
          },
          "metadata": {}
        },
        {
          "output_type": "stream",
          "name": "stderr",
          "text": [
            "\u001b[32m2025-10-28 04:06:32 [INFO] [SUCCESS] Command interpreted: 'finish'\u001b[0m\n"
          ]
        }
      ]
    },
    {
      "cell_type": "markdown",
      "source": [
        "Define `run_interpreter_capture` function to output and review past commands using `io`, `sys`"
      ],
      "metadata": {
        "id": "iD9hV5U3cztl"
      }
    },
    {
      "cell_type": "code",
      "source": [
        "def run_interpreter_capture(sentence):\n",
        "    buf = io.StringIO()\n",
        "    old_stdout = sys.stdout\n",
        "    sys.stdout = buf\n",
        "    try:\n",
        "        handle_command(sentence)\n",
        "    finally:\n",
        "        sys.stdout = old_stdout\n",
        "    printed = buf.getvalue().strip()\n",
        "    # Build CLI history and CLI full text from symbol_table[\"cli_commands\"]\n",
        "    cli_entries = symbol_table.get(\"cli_commands\", [])\n",
        "    history_lines = [entry[\"action\"] for entry in cli_entries]\n",
        "    cli_lines = []\n",
        "    for entry in cli_entries:\n",
        "        cli_lines.extend(entry[\"commands\"])\n",
        "    history_text = \"\\n\".join(history_lines)\n",
        "    cli_text = \"\\n\".join(cli_lines)\n",
        "    return printed, history_text, cli_text"
      ],
      "metadata": {
        "id": "XDFrYYWSRAxY"
      },
      "execution_count": null,
      "outputs": []
    },
    {
      "cell_type": "markdown",
      "source": [
        "## **6.4 Implementation via gradio**\n",
        "\n",
        "---\n",
        "\n"
      ],
      "metadata": {
        "id": "WF5m2Y6NhccS"
      }
    },
    {
      "cell_type": "markdown",
      "source": [
        "Create the GUI using `gradio` for routing configurations"
      ],
      "metadata": {
        "id": "23aIFuOWcnmI"
      }
    },
    {
      "cell_type": "code",
      "source": [
        "def create_cli_gui_for_router(router_name):\n",
        "    \"\"\"\n",
        "    Complete Gradio GUI to build CLI for a given router.\n",
        "    Includes all implemented features: ACL, DHCP, RIP, EIGRP, OSPF, etc.\n",
        "    \"\"\"\n",
        "    with gr.Blocks(\n",
        "        title=f\"CLI Builder - {router_name}\",\n",
        "        theme=gr.themes.Soft(),\n",
        "        css=\"\"\"\n",
        "        .gradio-container {\n",
        "            height: 1200px !important;\n",
        "            overflow: auto;\n",
        "        }\n",
        "        .tab-item {\n",
        "            min-height: 800px;\n",
        "        }\n",
        "        \"\"\"\n",
        "    ) as demo:\n",
        "        gr.Markdown(f\"# CLI Builder for {router_name}\")\n",
        "        gr.Markdown(\n",
        "            \"Buttons below generate CLI by sending sentences through the interpreter \"\n",
        "            \"(tokenize → handlers). CLI blocks are appended to `symbol_table['cli_commands']`.\"\n",
        "        )\n",
        "\n",
        "        with gr.Row():\n",
        "            with gr.Column(scale=2):\n",
        "                history_box = gr.Textbox(\n",
        "                    label=\"CLI Action History (human)\",\n",
        "                    lines=15,\n",
        "                    interactive=False\n",
        "                )\n",
        "                cli_box = gr.Textbox(\n",
        "                    label=\"Generated CLI (copy to Packet Tracer)\",\n",
        "                    lines=20,\n",
        "                    interactive=True,\n",
        "                    show_copy_button=True\n",
        "                )\n",
        "\n",
        "            with gr.Column(scale=1):\n",
        "                # Basic Commands Tab\n",
        "                with gr.Tab(\"Basic\"):\n",
        "                    gr.Markdown(\"### Basic Configuration\")\n",
        "                    btn_enable = gr.Button(\"Enter Privileged Mode\")\n",
        "                    btn_conf_t = gr.Button(\"Enter Global Config Mode\")\n",
        "                    btn_hostname = gr.Button(f\"Set Hostname ({router_name})\")\n",
        "                    btn_save = gr.Button(\"Save Config\")\n",
        "                    btn_show_if = gr.Button(\"Show Interfaces\")\n",
        "                    btn_show_rt = gr.Button(\"Show Routing Table\")\n",
        "                    btn_clear_cli = gr.Button(\"Clear CLI Blocks\", variant=\"stop\")\n",
        "\n",
        "                # Interface Configuration Tab\n",
        "                with gr.Tab(\"Interface\"):\n",
        "                    gr.Markdown(\"### Interface Configuration\")\n",
        "                    iface_name = gr.Textbox(label=\"Interface\", value=\"GigabitEthernet0/0\")\n",
        "                    iface_ip = gr.Textbox(label=\"IP Address\", value=\"192.168.1.1\")\n",
        "                    iface_mask = gr.Textbox(label=\"Subnet Mask\", value=\"255.255.255.0\")\n",
        "                    btn_iface = gr.Button(\"Configure Interface\")\n",
        "\n",
        "                # Static Routing Tab\n",
        "                with gr.Tab(\"Static Routing\"):\n",
        "                    gr.Markdown(\"### Static Route Configuration\")\n",
        "                    route_net = gr.Textbox(label=\"Network\", value=\"10.0.0.0\")\n",
        "                    route_mask = gr.Textbox(label=\"Mask\", value=\"255.255.255.0\")\n",
        "                    route_nxt = gr.Textbox(label=\"Next Hop\", value=\"192.168.1.2\")\n",
        "                    btn_static = gr.Button(\"Add Static Route\")\n",
        "\n",
        "                # OSPF Routing Tab\n",
        "                with gr.Tab(\"OSPF\"):\n",
        "                    gr.Markdown(\"### OSPF Configuration\")\n",
        "                    ospf_process = gr.Textbox(label=\"Process ID\", value=\"1\")\n",
        "                    ospf_network = gr.Textbox(label=\"Network\", value=\"192.168.1.0\")\n",
        "                    ospf_wildcard = gr.Textbox(label=\"Wildcard Mask\", value=\"0.0.0.255\")\n",
        "                    ospf_area = gr.Textbox(label=\"Area\", value=\"0\")\n",
        "                    btn_ospf = gr.Button(\"Configure OSPF\")\n",
        "\n",
        "                # EIGRP Routing Tab\n",
        "                with gr.Tab(\"EIGRP\"):\n",
        "                    gr.Markdown(\"### EIGRP Configuration\")\n",
        "                    eigrp_asn = gr.Textbox(label=\"AS Number\", value=\"100\")\n",
        "                    eigrp_network = gr.Textbox(label=\"Network\", value=\"192.168.1.0\")\n",
        "                    btn_eigrp = gr.Button(\"Configure EIGRP\")\n",
        "\n",
        "                # RIP Routing Tab\n",
        "                with gr.Tab(\"RIP\"):\n",
        "                    gr.Markdown(\"### RIP Configuration\")\n",
        "                    rip_network = gr.Textbox(label=\"Network\", value=\"192.168.1.0\")\n",
        "                    btn_rip = gr.Button(\"Configure RIP\")\n",
        "\n",
        "                # DHCP Configuration Tab\n",
        "                with gr.Tab(\"DHCP\"):\n",
        "                    gr.Markdown(\"### DHCP Pool Configuration\")\n",
        "                    dhcp_pool = gr.Textbox(label=\"Pool Name\", value=\"LAN_POOL\")\n",
        "                    dhcp_network = gr.Textbox(label=\"Network\", value=\"192.168.1.0\")\n",
        "                    dhcp_mask = gr.Textbox(label=\"Mask\", value=\"255.255.255.0\")\n",
        "                    dhcp_gw = gr.Textbox(label=\"Default Gateway\", value=\"192.168.1.1\")\n",
        "                    dhcp_dns = gr.Textbox(label=\"DNS Server\", value=\"8.8.8.8\")\n",
        "                    btn_dhcp = gr.Button(\"Configure DHCP\")\n",
        "\n",
        "                # ACL Configuration Tab\n",
        "                with gr.Tab(\"ACL\"):\n",
        "                    gr.Markdown(\"### Access Control Lists\")\n",
        "\n",
        "                    with gr.Row():\n",
        "                        with gr.Column():\n",
        "                            gr.Markdown(\"#### Standard ACL\")\n",
        "                            acl_std_num = gr.Textbox(label=\"ACL Number\", value=\"1\")\n",
        "                            acl_std_action = gr.Dropdown(\n",
        "                                choices=[\"permit\", \"deny\"],\n",
        "                                label=\"Action\",\n",
        "                                value=\"permit\"\n",
        "                            )\n",
        "                            acl_std_src = gr.Textbox(label=\"Source Network\", value=\"192.168.1.0 0.0.0.255\")\n",
        "                            btn_acl_std = gr.Button(\"Add Standard ACL Rule\")\n",
        "\n",
        "                        with gr.Column():\n",
        "                            gr.Markdown(\"#### Extended ACL\")\n",
        "                            acl_ext_num = gr.Textbox(label=\"ACL Number\", value=\"100\")\n",
        "                            acl_ext_action = gr.Dropdown(\n",
        "                                choices=[\"permit\", \"deny\"],\n",
        "                                label=\"Action\",\n",
        "                                value=\"permit\"\n",
        "                            )\n",
        "                            acl_ext_proto = gr.Dropdown(\n",
        "                                choices=[\"ip\", \"tcp\", \"udp\", \"icmp\"],\n",
        "                                label=\"Protocol\",\n",
        "                                value=\"ip\"\n",
        "                            )\n",
        "                            acl_ext_src = gr.Textbox(label=\"Source\", value=\"any\")\n",
        "                            acl_ext_dst = gr.Textbox(label=\"Destination\", value=\"any\")\n",
        "                            btn_acl_ext = gr.Button(\"Add Extended ACL Rule\")\n",
        "\n",
        "        # Callback function\n",
        "        def update_from_sentence(sentence, hist_text, cli_text):\n",
        "            printed, history_text, cli_text_new = run_interpreter_capture(sentence)\n",
        "            return history_text, cli_text_new if cli_text_new else printed\n",
        "\n",
        "        # Basic button events\n",
        "        btn_enable.click(lambda h,c, s=\"enable\": update_from_sentence(s, h, c),\n",
        "                         [history_box, cli_box], [history_box, cli_box])\n",
        "        btn_conf_t.click(lambda h,c, s=\"configure terminal\": update_from_sentence(s, h, c),\n",
        "                         [history_box, cli_box], [history_box, cli_box])\n",
        "        btn_hostname.click(lambda h,c, s=f\"set hostname {router_name} {router_name}\": update_from_sentence(s, h, c),\n",
        "                           [history_box, cli_box], [history_box, cli_box])\n",
        "        btn_save.click(lambda h,c, s=f\"save {router_name}\": update_from_sentence(s, h, c),\n",
        "                       [history_box, cli_box], [history_box, cli_box])\n",
        "        btn_show_if.click(lambda h,c, s=f\"show interfaces {router_name}\": update_from_sentence(s, h, c),\n",
        "                          [history_box, cli_box], [history_box, cli_box])\n",
        "        btn_show_rt.click(lambda h,c, s=f\"show routing {router_name}\": update_from_sentence(s, h, c),\n",
        "                          [history_box, cli_box], [history_box, cli_box])\n",
        "        btn_clear_cli.click(lambda h,c, s=\"clear cli\": update_from_sentence(s, h, c),\n",
        "                            [history_box, cli_box], [history_box, cli_box])\n",
        "\n",
        "        # Interface button event\n",
        "        btn_iface.click(lambda i, ip, m, h, c, rn=router_name: update_from_sentence(f\"set interface {rn} {i} {ip} {m}\", h, c),\n",
        "                        [iface_name, iface_ip, iface_mask, history_box, cli_box], [history_box, cli_box])\n",
        "\n",
        "        # Static routing button event\n",
        "        btn_static.click(lambda n, m, nxt, h, c, rn=router_name: update_from_sentence(f\"set static-route {rn} {n} {m} {nxt}\", h, c),\n",
        "                         [route_net, route_mask, route_nxt, history_box, cli_box], [history_box, cli_box])\n",
        "\n",
        "        # OSPF button event\n",
        "        btn_ospf.click(lambda proc, net, wild, area, h, c, rn=router_name:\n",
        "                       update_from_sentence(f\"set ospf {rn} {proc} {net} {wild} {area}\", h, c),\n",
        "                       [ospf_process, ospf_network, ospf_wildcard, ospf_area, history_box, cli_box],\n",
        "                       [history_box, cli_box])\n",
        "\n",
        "        # EIGRP button event\n",
        "        btn_eigrp.click(lambda asn, net, h, c, rn=router_name:\n",
        "                        update_from_sentence(f\"set eigrp {rn} {asn} {net}\", h, c),\n",
        "                        [eigrp_asn, eigrp_network, history_box, cli_box],\n",
        "                        [history_box, cli_box])\n",
        "\n",
        "        # RIP button event\n",
        "        btn_rip.click(lambda net, h, c, rn=router_name:\n",
        "                      update_from_sentence(f\"set rip {rn} {net}\", h, c),\n",
        "                      [rip_network, history_box, cli_box],\n",
        "                      [history_box, cli_box])\n",
        "\n",
        "        # DHCP button event\n",
        "        btn_dhcp.click(lambda pool, net, mask, gw, dns, h, c, rn=router_name:\n",
        "                       update_from_sentence(f\"set dhcp {rn} {pool} {net} {mask} {gw} {dns}\", h, c),\n",
        "                       [dhcp_pool, dhcp_network, dhcp_mask, dhcp_gw, dhcp_dns, history_box, cli_box],\n",
        "                       [history_box, cli_box])\n",
        "\n",
        "        # ACL button events\n",
        "        btn_acl_std.click(lambda num, action, src, h, c, rn=router_name:\n",
        "                          update_from_sentence(f\"set acl-std {rn} {num} {action} {src}\", h, c),\n",
        "                          [acl_std_num, acl_std_action, acl_std_src, history_box, cli_box],\n",
        "                          [history_box, cli_box])\n",
        "\n",
        "        btn_acl_ext.click(lambda num, action, proto, src, dst, h, c, rn=router_name:\n",
        "                          update_from_sentence(f\"set acl-ext {rn} {num} {action} {proto} {src} {dst}\", h, c),\n",
        "                          [acl_ext_num, acl_ext_action, acl_ext_proto, acl_ext_src, acl_ext_dst, history_box, cli_box],\n",
        "                          [history_box, cli_box])\n",
        "\n",
        "    return demo"
      ],
      "metadata": {
        "id": "vFIgJEc0RIpN"
      },
      "execution_count": null,
      "outputs": []
    },
    {
      "cell_type": "markdown",
      "source": [
        "Define `launch_cli_builder_for_all_routers` function to run gradio GUI\n",
        "\n",
        "\n",
        "> Function attempts to check `devices: {}` if devices exists before running GUI, otherwise return an error message.\n"
      ],
      "metadata": {
        "id": "fuZy4bdDckEr"
      }
    },
    {
      "cell_type": "code",
      "source": [
        "def launch_cli_builder_for_all_routers(share=False):\n",
        "    routers = [d for d, t in symbol_table[\"devices\"].items() if t == \"router\"]\n",
        "    if not routers:\n",
        "        print(\"No routers found. Build topology first (use Stage buttons).\")\n",
        "        return\n",
        "    demos = []\n",
        "    for r in routers:\n",
        "        demos.append((create_cli_gui_for_router(r), r))\n",
        "    if len(demos) == 1:\n",
        "        demos[0][0].launch(share=share, height=1000)\n",
        "    else:\n",
        "        with gr.Blocks() as combined:\n",
        "            gr.Markdown(\"# Multi-Router CLI Builder\")\n",
        "            with gr.Tabs():\n",
        "                for demo, r in demos:\n",
        "                    with gr.Tab(r):\n",
        "                        demo.render()\n",
        "        combined.launch(share=share, height=1000)"
      ],
      "metadata": {
        "id": "NDryvxSdRUz-"
      },
      "execution_count": null,
      "outputs": []
    },
    {
      "cell_type": "code",
      "source": [
        "launch_cli_builder_for_all_routers(share=False)"
      ],
      "metadata": {
        "colab": {
          "base_uri": "https://localhost:8080/"
        },
        "id": "GCNYUumiRWXx",
        "outputId": "fc40dc70-4823-45dd-f384-bf3413a82484"
      },
      "execution_count": null,
      "outputs": [
        {
          "output_type": "stream",
          "name": "stdout",
          "text": [
            "No routers found. Build topology first (use Stage buttons).\n"
          ]
        }
      ]
    },
    {
      "cell_type": "markdown",
      "source": [
        "# ***Section 7: Extensions and Additional Features***\n",
        "\n",
        "---\n",
        "\n"
      ],
      "metadata": {
        "id": "Wr1fLLT0vLqK"
      }
    },
    {
      "cell_type": "markdown",
      "source": [
        "Beyond the core interpretation pipeline, our system includes several **extended features** that enhance its usability and realism. One major extension is the integration of a comprehensive **logging system** using Python’s logging module. It records each phase of execution—from lexical analysis to interpretation—with timestamps and color-coded log levels for better traceability. This logging framework not only aids in debugging and monitoring command execution but also provides clear insights into system performance and user actions.\n",
        "\n",
        "Another vital enhancement is the **Command Handler Registry** implemented through Python decorators (`@command_handler`), which allows new commands to be easily added without modifying the core parser. This makes the interpreter highly extensible and maintainable, encouraging modular growth as more network functions are introduced.\n",
        "\n",
        "Another enhancement is the **integration of a CLI command history** via the `symbol_table`, which stores all executed configuration steps. This feature enables the interpreter to avoid duplicate command executions and supports clear visualization of applied configurations. Additionally, the interpreter includes **topology visualization** using `networkx` and `matplotlib`, allowing users to see real-time graphical representations of connected devices and links.\n",
        "\n",
        "Together, these extensions significantly improve the interpreter’s usefulness by combining **realistic command behavior**, **visual feedback**, and **expandable functionality**, transforming it from a simple text processor into a flexible and interactive network simulation tool."
      ],
      "metadata": {
        "id": "mQImtCQ_vSls"
      }
    },
    {
      "cell_type": "markdown",
      "source": [
        "# ***Section 8: Insights and Conclusions***\n",
        "\n",
        "---\n",
        "\n"
      ],
      "metadata": {
        "id": "2EBj7Etrs6Ic"
      }
    },
    {
      "cell_type": "markdown",
      "source": [
        "Through the development of this network topology and CLI command interpreter, it was found that the machine project is successful at inputting Cisco devices via static declaration. Another key factor was outputting Cisco commands from gradio buttons with descriptive labels exhibiting a beginner-friendly atmosphere for new users attempting to learn Cisco Packet Tracer. In coherence, the interpreter does not simply implicate the utilization of static declaration, however it also allows users to enter their IP addresses and subnet addresses which are validated within the command-processing pipeline as it also serves as a sandbox for trial and error. Furthermore, the project enhanced understanding of interpreter design, particularly the coordination between lexical, syntactic, and semantic analysis in achieving accurate command execution and modular system architecture.\n",
        "\n"
      ],
      "metadata": {
        "id": "Er-8MKf6tDKD"
      }
    },
    {
      "cell_type": "markdown",
      "source": [
        "## **8.1 Final Assessment and Further Exploration**\n",
        "\n",
        "---\n",
        "\n"
      ],
      "metadata": {
        "id": "txydlgf-wVot"
      }
    },
    {
      "cell_type": "markdown",
      "source": [
        "Future projects that correlate to improving the state of allowing new users to learn should explore fields that are deeply related in deep learning via neural networks for Natural Language Processing (NLP). This project was limited to defining under a table aside from training a neural network was not feasible given the time constraint and scarcity of finding appropriate datasets for model training."
      ],
      "metadata": {
        "id": "_t1QWkmWwa54"
      }
    },
    {
      "cell_type": "markdown",
      "source": [
        "# ***Section 9: References***\n",
        "\n",
        "---\n",
        "\n"
      ],
      "metadata": {
        "id": "t0U_yvY-vj56"
      }
    },
    {
      "cell_type": "markdown",
      "source": [
        "Name of Tools Used:\n",
        "\n",
        "* ChatGPT 4.0 (OpenAI)\n",
        "\n",
        "* Claude (Anthropic)"
      ],
      "metadata": {
        "id": "F0nuP_3QvokW"
      }
    },
    {
      "cell_type": "markdown",
      "source": [
        "###**9.1 Prompts**\n",
        "---"
      ],
      "metadata": {
        "id": "5WNI9qw0FDyP"
      }
    },
    {
      "cell_type": "markdown",
      "source": [
        "- \"What are the fundamentals of a robust and scalable compiler?\"\n",
        "- \"How can we handle exceptions gracefully?\"\n",
        "- \"What design principles could we implement to make it modular and easy to use\"\n",
        "- \"How can we utilize this Python documentation and implement it on our interpreter system?\""
      ],
      "metadata": {
        "id": "KI_xxdguFW0P"
      }
    },
    {
      "cell_type": "markdown",
      "source": [
        "### **9.2 Documentation**\n",
        "---"
      ],
      "metadata": {
        "id": "-w-z1qa-FRwT"
      }
    },
    {
      "cell_type": "markdown",
      "source": [
        "Documentation References:\n",
        "\n",
        "* CPython InternalDocs – Compiler. <br>\n",
        "Available at: https://github.com/python/cpython/blob/main/InternalDocs/compiler.md\n",
        "\n",
        "* Python Logging Library Documentation. <br>\n",
        "Available at: https://docs.python.org/3/library/logging.html\n",
        "\n",
        "* Python Tutorial – Errors and Exceptions (Handling Exceptions Section). <br>\n",
        "Available at: https://docs.python.org/3/tutorial/errors.html#handling-exceptions\n",
        "\n",
        "* The Decorator Pattern — Python Design Patterns Guide. <br>\n",
        "Available at: https://python-patterns.guide/gang-of-four/decorator-pattern/\n",
        "\n",
        "* PEP 318 – Decorators for Functions and Methods. <br>\n",
        "Available at: https://peps.python.org/pep-0318/\n",
        "\n",
        "* Wittenauer, J. *NetworkX Library Tutorial (Google Colab Notebook)*. <br>\n",
        "Available at: https://colab.research.google.com/github/jdwittenauer/ipython-notebooks/blob/master/notebooks/libraries/NetworkX.ipynb\n",
        "\n",
        "* ipywidgets Official Documentation. <br>\n",
        "Available at: https://ipywidgets.readthedocs.io/en/stable/reference/ipywidgets.html\n",
        "\n",
        "* Widget Basics and Widget List. <br>\n",
        "Available at: https://ipywidgets.readthedocs.io/en/stable/examples/Widget%20Basics.html\n",
        "\n",
        "* Gradio Blocks API Documentation. <br>\n",
        "Available at: https://www.gradio.app/docs/gradio/blocks\n"
      ],
      "metadata": {
        "id": "NMewxNsC6-rZ"
      }
    }
  ]
}